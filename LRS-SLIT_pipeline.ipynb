{
 "cells": [
  {
   "cell_type": "markdown",
   "metadata": {},
   "source": [
    "# Run level 2A, 2B and 3 pipelines on LRS-SLIT data using jwst.pipeline classes"
   ]
  },
  {
   "cell_type": "markdown",
   "metadata": {},
   "source": [
    "### by Patrick Kavanagh (DIAS, Ireland) December 5th 2017"
   ]
  },
  {
   "cell_type": "markdown",
   "metadata": {},
   "source": [
    "This notebook demonstrates the execution of the level 2A and 2B pipelines for LRS-SLIT data in Python using the jwst.pipeline classes.\n",
    "\n",
    "For a description of the pipeline classes see:\n",
    "\n",
    "http://ssb.stsci.edu/doc/jwst_dev/jwst/pipeline/index.html\n",
    "\n",
    "The files used in this notebook are a dithered (nodded) MIRISim simulation of a point source with a power-law spectrum (alpha=0) plus emission lines. The following steps are applied:\n",
    "\n",
    "- ramps to slopes pipeline (Detector1Pipeline)\n",
    "\n",
    "- CALSPEC2 steps (Spec2Pipeline), including background subtraction using the nods, spectral extraction\n",
    "\n",
    "- manual conversion of extracted spectrum to Jy using SRF\n"
   ]
  },
  {
   "cell_type": "markdown",
   "metadata": {},
   "source": [
    "#### Imports"
   ]
  },
  {
   "cell_type": "code",
   "execution_count": 1,
   "metadata": {
    "collapsed": true
   },
   "outputs": [],
   "source": [
    "import os, glob, shutil\n",
    "\n",
    "import numpy as np\n",
    "from astropy.io import fits\n",
    "from matplotlib.colors import LogNorm\n",
    "import matplotlib.pyplot as plt\n",
    "from subprocess import call\n",
    "\n",
    "from jwst import datamodels\n",
    "\n",
    "%matplotlib inline\n",
    "# %matplotlib notebook # if you want interactive plots"
   ]
  },
  {
   "cell_type": "markdown",
   "metadata": {},
   "source": [
    "#### Set input file:"
   ]
  },
  {
   "cell_type": "code",
   "execution_count": 2,
   "metadata": {
    "collapsed": true
   },
   "outputs": [],
   "source": [
    "# set input filenames and directory. In this example, the files are located in a folder called 'LRS-SLIT_demo_data'\n",
    "input_dir = 'LRS-SLIT_demo_data'\n",
    "\n",
    "# load all files including the background observation\n",
    "input_files = glob.glob(os.path.join(input_dir,'*.fits'))\n",
    "\n",
    "# set the output directory name\n",
    "output_dir = input_dir + '_pipeline'\n",
    "\n",
    "# if the output directory exists, delete it\n",
    "if os.path.exists(output_dir): shutil.rmtree(output_dir)\n",
    "\n",
    "# create the output directory\n",
    "os.mkdir(output_dir)"
   ]
  },
  {
   "cell_type": "markdown",
   "metadata": {},
   "source": [
    "#### print some information about the input files. We will just look at the first file"
   ]
  },
  {
   "cell_type": "code",
   "execution_count": 3,
   "metadata": {},
   "outputs": [
    {
     "name": "stdout",
     "output_type": "stream",
     "text": [
      "ID\t Type\t\t\t Filter\t subAr\t nInts\t nGrps\t rdPatt\t ExpTime (s)\n",
      "--------------------------------------------------------------------------------------------------\n",
      "MIRISim\t MIR_LRS-FIXEDSLIT\t P750L\t FULL\t 2\t 50\t FAST\t 277.5\n",
      "\n",
      "\n",
      "\n",
      "Filename: LRS-SLIT_demo_data/det_image_1_MIRIMAGE_P750Lexp1.fits\n",
      "No.    Name      Ver    Type      Cards   Dimensions   Format\n",
      "  0  PRIMARY       1 PrimaryHDU     109   ()      \n",
      "  1  SCI           1 ImageHDU        65   (1032, 1024, 50, 2)   float32   \n",
      "  2  REFOUT        1 ImageHDU        15   (258, 1024, 50, 2)   float32   \n",
      "  3  PIXELDQ       1 ImageHDU        11   (1032, 1024)   int32 (rescales to uint32)   \n",
      "  4  PIXELDQ_DEF    1 BinTableHDU     18   29R x 4C   [J, J, 40A, 128A]   \n",
      "  5  ASDF          1 ImageHDU         7   (533679309,)   uint8   \n"
     ]
    }
   ],
   "source": [
    "# print some info on input file\n",
    "with fits.open(input_files[0]) as hdulist:\n",
    "        \n",
    "    if hdulist[0].header['ORIGIN'] == 'STScI':\n",
    "        # specific information on instrument/exposure\n",
    "        identifier = hdulist[0].header['OBS_ID']\n",
    "        detector = hdulist[0].header['EXP_TYPE']\n",
    "        im_filter = hdulist[0].header['FILTER']\n",
    "        nInts = hdulist[0].header['NINTS']\n",
    "        nGroups = hdulist[0].header['NGROUPS']\n",
    "        readPatt = hdulist[0].header['READPATT']\n",
    "        expTime = hdulist[0].header['EFFEXPTM']\n",
    "        subArr = hdulist[0].header['SUBARRAY']\n",
    "        channel = hdulist[0].header['CHANNEL']\n",
    "        band = hdulist[0].header['BAND']\n",
    "        print(\"ID\\t\\t\\t Detector\\t Filter\\t subAr\\t nInts\\t nGrps\\t rdPatt\\t ExpTime (s)\")\n",
    "        print(\"--------------------------------------------------------------------------------------------------\")\n",
    "        print(\"%s\\t %s\\t %s\\t %s\\t %d\\t %d\\t %s\\t %0.1f\" % (identifier,detector,im_filter,subArr,nInts,nGroups,readPatt,expTime))\n",
    "        print(\"\\n\\n\")\n",
    "            \n",
    "    else:\n",
    "        # specific information on instrument/exposure\n",
    "        detector = hdulist[0].header['EXP_TYPE']\n",
    "        im_filter = hdulist[0].header['FILTER']\n",
    "        nInts = hdulist[0].header['NINTS']\n",
    "        nGroups = hdulist[0].header['NGROUPS']\n",
    "        readPatt = hdulist[0].header['READPATT']\n",
    "        expTime = hdulist[0].header['EFFEXPTM']\n",
    "        subArr = hdulist[0].header['SUBARRAY']\n",
    "        print(\"ID\\t Type\\t\\t\\t Filter\\t subAr\\t nInts\\t nGrps\\t rdPatt\\t ExpTime (s)\")\n",
    "        print(\"--------------------------------------------------------------------------------------------------\")\n",
    "        print(\"MIRISim\\t %s\\t %s\\t %s\\t %d\\t %d\\t %s\\t %0.1f\" % (detector,im_filter,subArr, nInts,nGroups,readPatt,expTime))\n",
    "        print(\"\\n\\n\")\n",
    "\n",
    "    # fits extension table\n",
    "    hdulist.info()"
   ]
  },
  {
   "cell_type": "markdown",
   "metadata": {},
   "source": [
    "#### show the last frame of the first integration for each file"
   ]
  },
  {
   "cell_type": "code",
   "execution_count": 4,
   "metadata": {},
   "outputs": [
    {
     "data": {
      "image/png": "[encoded data removed]",
      "text/plain": [
       "<matplotlib.figure.Figure at 0x104bb3c50>"
      ]
     },
     "metadata": {},
     "output_type": "display_data"
    }
   ],
   "source": [
    "fig, axs = plt.subplots(1, 2, figsize=(12, 6))\n",
    "axs = axs.ravel()\n",
    "\n",
    "for n, f in enumerate(input_files):\n",
    "    with datamodels.open(f) as in_dm:\n",
    "        axs[n].imshow(in_dm.data[0,-1,:,:], cmap='jet', interpolation='nearest', origin='lower', norm=LogNorm(vmin=1e4,vmax=5e4))\n",
    "        axs[n].set_facecolor('black')\n",
    "\n",
    "plt.tight_layout()\n",
    "plt.show()"
   ]
  },
  {
   "cell_type": "markdown",
   "metadata": {},
   "source": [
    "### Level 2A pipeline (ramps-to-slopes)"
   ]
  },
  {
   "cell_type": "markdown",
   "metadata": {},
   "source": [
    "#### import the level 2A pipeline class and print description"
   ]
  },
  {
   "cell_type": "code",
   "execution_count": 5,
   "metadata": {
    "scrolled": false
   },
   "outputs": [
    {
     "name": "stdout",
     "output_type": "stream",
     "text": [
      "\n",
      "\n",
      "    Detector1Pipeline: Apply all calibration steps to raw JWST\n",
      "    ramps to produce a 2-D slope product. Included steps are:\n",
      "    group_scale, dq_init, saturation, ipc, superbias, refpix, rscd,\n",
      "    lastframe, linearity, dark_current, persistence, jump detection,\n",
      "    ramp_fit, and gain_scale.\n",
      "\n",
      "    \n"
     ]
    }
   ],
   "source": [
    "from jwst.pipeline import Detector1Pipeline\n",
    "print(Detector1Pipeline.__doc__)"
   ]
  },
  {
   "cell_type": "markdown",
   "metadata": {},
   "source": [
    "#### run pipeline\n",
    "We pass the level 1B files (demo data). The output level 2A files will be saved in the output_dir as '*_rate.fits'"
   ]
  },
  {
   "cell_type": "code",
   "execution_count": 6,
   "metadata": {
    "scrolled": true
   },
   "outputs": [
    {
     "name": "stderr",
     "output_type": "stream",
     "text": [
      "2017-12-11 12:23:33,131 - stpipe.Detector1Pipeline - INFO - Detector1Pipeline instance created.\n",
      "2017-12-11 12:23:33,133 - stpipe.Detector1Pipeline.group_scale - INFO - GroupScaleStep instance created.\n",
      "2017-12-11 12:23:33,134 - stpipe.Detector1Pipeline.dq_init - INFO - DQInitStep instance created.\n",
      "2017-12-11 12:23:33,136 - stpipe.Detector1Pipeline.saturation - INFO - SaturationStep instance created.\n",
      "2017-12-11 12:23:33,137 - stpipe.Detector1Pipeline.ipc - INFO - IPCStep instance created.\n",
      "2017-12-11 12:23:33,139 - stpipe.Detector1Pipeline.superbias - INFO - SuperBiasStep instance created.\n",
      "2017-12-11 12:23:33,140 - stpipe.Detector1Pipeline.refpix - INFO - RefPixStep instance created.\n",
      "2017-12-11 12:23:33,141 - stpipe.Detector1Pipeline.rscd - INFO - RSCD_Step instance created.\n",
      "2017-12-11 12:23:33,144 - stpipe.Detector1Pipeline.lastframe - INFO - LastFrameStep instance created.\n",
      "2017-12-11 12:23:33,146 - stpipe.Detector1Pipeline.linearity - INFO - LinearityStep instance created.\n",
      "2017-12-11 12:23:33,147 - stpipe.Detector1Pipeline.dark_current - INFO - DarkCurrentStep instance created.\n",
      "2017-12-11 12:23:33,149 - stpipe.Detector1Pipeline.persistence - INFO - PersistenceStep instance created.\n",
      "2017-12-11 12:23:33,150 - stpipe.Detector1Pipeline.jump - INFO - JumpStep instance created.\n",
      "2017-12-11 12:23:33,151 - stpipe.Detector1Pipeline.ramp_fit - INFO - RampFitStep instance created.\n",
      "2017-12-11 12:23:33,154 - stpipe.Detector1Pipeline.gain_scale - INFO - GainScaleStep instance created.\n",
      "2017-12-11 12:23:35,464 - stpipe.Detector1Pipeline - INFO - Prefetch for DARK reference file is '/Users/patrickkavanagh/crds_mirror/references/jwst/miri/jwst_miri_dark_0058.fits'.\n",
      "2017-12-11 12:23:35,465 - stpipe.Detector1Pipeline - INFO - Prefetch for GAIN reference file is '/Users/patrickkavanagh/crds_mirror/references/jwst/miri/jwst_miri_gain_0008.fits'.\n",
      "2017-12-11 12:23:35,466 - stpipe.Detector1Pipeline - INFO - Prefetch for IPC reference file is '/Users/patrickkavanagh/crds_mirror/references/jwst/miri/jwst_miri_ipc_0009.fits'.\n",
      "2017-12-11 12:23:35,467 - stpipe.Detector1Pipeline - INFO - Prefetch for LINEARITY reference file is '/Users/patrickkavanagh/crds_mirror/references/jwst/miri/jwst_miri_linearity_0024.fits'.\n",
      "2017-12-11 12:23:35,468 - stpipe.Detector1Pipeline - INFO - Prefetch for MASK reference file is '/Users/patrickkavanagh/crds_mirror/references/jwst/miri/jwst_miri_mask_0019.fits'.\n",
      "2017-12-11 12:23:35,468 - stpipe.Detector1Pipeline - INFO - Prefetch for PERSAT reference file is 'N/A'.\n",
      "2017-12-11 12:23:35,469 - stpipe.Detector1Pipeline - INFO - Prefetch for READNOISE reference file is '/Users/patrickkavanagh/crds_mirror/references/jwst/miri/jwst_miri_readnoise_0040.fits'.\n",
      "2017-12-11 12:23:35,470 - stpipe.Detector1Pipeline - INFO - Prefetch for REFPIX reference file is 'N/A'.\n",
      "2017-12-11 12:23:35,470 - stpipe.Detector1Pipeline - INFO - Prefetch for RSCD reference file is '/Users/patrickkavanagh/crds_mirror/references/jwst/miri/jwst_miri_rscd_0004.fits'.\n",
      "2017-12-11 12:23:35,471 - stpipe.Detector1Pipeline - INFO - Prefetch for SATURATION reference file is '/Users/patrickkavanagh/crds_mirror/references/jwst/miri/jwst_miri_saturation_0019.fits'.\n",
      "2017-12-11 12:23:35,472 - stpipe.Detector1Pipeline - INFO - Prefetch for SUPERBIAS reference file is 'N/A'.\n",
      "2017-12-11 12:23:35,473 - stpipe.Detector1Pipeline - INFO - Prefetch for TRAPDENSITY reference file is 'N/A'.\n",
      "2017-12-11 12:23:35,474 - stpipe.Detector1Pipeline - INFO - Prefetch for TRAPPARS reference file is 'N/A'.\n",
      "2017-12-11 12:23:35,520 - stpipe.Detector1Pipeline - INFO - Step Detector1Pipeline running with args ('LRS-SLIT_demo_data/det_image_1_MIRIMAGE_P750Lexp1.fits',).\n",
      "2017-12-11 12:23:35,520 - stpipe.Detector1Pipeline - INFO - Starting calwebb_detector1 ...\n",
      "2017-12-11 12:23:36,919 - stpipe.Detector1Pipeline.group_scale - INFO - Step group_scale running with args (<jwst.datamodels.ramp.RampModel object at 0x214dd44a8>,).\n",
      "2017-12-11 12:23:36,943 - stpipe.Detector1Pipeline.group_scale - WARNING - NFRAMES=1 is a power of 2\n",
      "2017-12-11 12:23:36,944 - stpipe.Detector1Pipeline.group_scale - WARNING - Step will be skipped\n",
      "2017-12-11 12:23:36,948 - stpipe.Detector1Pipeline.group_scale - INFO - Step group_scale done\n",
      "2017-12-11 12:23:37,068 - stpipe.Detector1Pipeline.dq_init - INFO - Prefetch for MASK reference file is '/Users/patrickkavanagh/crds_mirror/references/jwst/miri/jwst_miri_mask_0019.fits'.\n",
      "2017-12-11 12:23:37,128 - stpipe.Detector1Pipeline.dq_init - INFO - Step dq_init running with args (<jwst.datamodels.ramp.RampModel object at 0x215028cc0>,).\n",
      "2017-12-11 12:23:37,210 - stpipe.Detector1Pipeline.dq_init - INFO - Using MASK reference file /Users/patrickkavanagh/crds_mirror/references/jwst/miri/jwst_miri_mask_0019.fits\n",
      "2017-12-11 12:23:39,760 - stpipe.Detector1Pipeline.dq_init - INFO - Step dq_init done\n",
      "2017-12-11 12:23:40,012 - stpipe.Detector1Pipeline.saturation - INFO - Prefetch for SATURATION reference file is '/Users/patrickkavanagh/crds_mirror/references/jwst/miri/jwst_miri_saturation_0019.fits'.\n",
      "2017-12-11 12:23:40,068 - stpipe.Detector1Pipeline.saturation - INFO - Step saturation running with args (<jwst.datamodels.ramp.RampModel object at 0x214ce6828>,).\n",
      "2017-12-11 12:23:40,145 - stpipe.Detector1Pipeline.saturation - INFO - Using SATURATION reference file /Users/patrickkavanagh/crds_mirror/references/jwst/miri/jwst_miri_saturation_0019.fits\n",
      "2017-12-11 12:23:41,585 - stpipe.Detector1Pipeline.saturation - INFO - Step saturation done\n",
      "2017-12-11 12:23:41,717 - stpipe.Detector1Pipeline.ipc - INFO - Prefetch for IPC reference file is '/Users/patrickkavanagh/crds_mirror/references/jwst/miri/jwst_miri_ipc_0009.fits'.\n",
      "2017-12-11 12:23:41,774 - stpipe.Detector1Pipeline.ipc - INFO - Step ipc running with args (<jwst.datamodels.ramp.RampModel object at 0x111ab9f28>,).\n",
      "2017-12-11 12:23:41,857 - stpipe.Detector1Pipeline.ipc - INFO - Using IPC reference file /Users/patrickkavanagh/crds_mirror/references/jwst/miri/jwst_miri_ipc_0009.fits\n",
      "2017-12-11 12:23:45,688 - stpipe.Detector1Pipeline.ipc - INFO - Step ipc done\n",
      "2017-12-11 12:23:45,839 - stpipe.Detector1Pipeline.linearity - INFO - Prefetch for LINEARITY reference file is '/Users/patrickkavanagh/crds_mirror/references/jwst/miri/jwst_miri_linearity_0024.fits'.\n",
      "2017-12-11 12:23:45,894 - stpipe.Detector1Pipeline.linearity - INFO - Step linearity running with args (<jwst.datamodels.ramp.RampModel object at 0x21500c7b8>,).\n",
      "2017-12-11 12:23:45,975 - stpipe.Detector1Pipeline.linearity - INFO - Using Linearity reference file /Users/patrickkavanagh/crds_mirror/references/jwst/miri/jwst_miri_linearity_0024.fits\n",
      "2017-12-11 12:23:48,633 - stpipe.Detector1Pipeline.linearity - INFO - Step linearity done\n",
      "2017-12-11 12:23:48,789 - stpipe.Detector1Pipeline.rscd - INFO - Prefetch for RSCD reference file is '/Users/patrickkavanagh/crds_mirror/references/jwst/miri/jwst_miri_rscd_0004.fits'.\n",
      "2017-12-11 12:23:48,843 - stpipe.Detector1Pipeline.rscd - INFO - Step rscd running with args (<jwst.datamodels.ramp.RampModel object at 0x111a3eac8>,).\n",
      "2017-12-11 12:23:48,926 - stpipe.Detector1Pipeline.rscd - INFO - Using RSCD reference file /Users/patrickkavanagh/crds_mirror/references/jwst/miri/jwst_miri_rscd_0004.fits\n",
      "2017-12-11 12:24:28,074 - stpipe.Detector1Pipeline.rscd - INFO - Step rscd done\n",
      "2017-12-11 12:24:28,143 - stpipe.Detector1Pipeline.lastframe - INFO - Step lastframe running with args (<jwst.datamodels.ramp.RampModel object at 0x1118e5e48>,).\n",
      "2017-12-11 12:24:29,835 - stpipe.Detector1Pipeline.lastframe - INFO - Step lastframe done\n",
      "2017-12-11 12:24:29,981 - stpipe.Detector1Pipeline.dark_current - INFO - Prefetch for DARK reference file is '/Users/patrickkavanagh/crds_mirror/references/jwst/miri/jwst_miri_dark_0058.fits'.\n",
      "2017-12-11 12:24:30,072 - stpipe.Detector1Pipeline.dark_current - INFO - Step dark_current running with args (<jwst.datamodels.ramp.RampModel object at 0x111978400>,).\n",
      "2017-12-11 12:24:30,303 - stpipe.Detector1Pipeline.dark_current - INFO - Using DARK reference file /Users/patrickkavanagh/crds_mirror/references/jwst/miri/jwst_miri_dark_0058.fits\n",
      "2017-12-11 12:24:30,437 - stpipe.Detector1Pipeline.dark_current - INFO - Science data nints=2, ngroups=50, nframes=1, groupgap=0\n"
     ]
    },
    {
     "name": "stderr",
     "output_type": "stream",
     "text": [
      "2017-12-11 12:24:30,437 - stpipe.Detector1Pipeline.dark_current - INFO - Dark data nints=2, ngroups=200, nframes=1, groupgap=0\n",
      "2017-12-11 12:24:41,621 - stpipe.Detector1Pipeline.dark_current - INFO - Step dark_current done\n",
      "2017-12-11 12:24:41,741 - stpipe.Detector1Pipeline.refpix - INFO - Prefetch for REFPIX reference file is 'N/A'.\n",
      "2017-12-11 12:24:41,809 - stpipe.Detector1Pipeline.refpix - INFO - Step refpix running with args (<jwst.datamodels.ramp.RampModel object at 0x111a66940>,).\n",
      "2017-12-11 12:24:41,841 - stpipe.Detector1Pipeline.refpix - INFO - use_side_ref_pixels = True\n",
      "2017-12-11 12:24:41,842 - stpipe.Detector1Pipeline.refpix - INFO - odd_even_columns = True\n",
      "2017-12-11 12:24:41,842 - stpipe.Detector1Pipeline.refpix - INFO - side_smoothing_length = 11\n",
      "2017-12-11 12:24:41,843 - stpipe.Detector1Pipeline.refpix - INFO - side_gain = 1.000000\n",
      "2017-12-11 12:24:41,844 - stpipe.Detector1Pipeline.refpix - INFO - odd_even_rows = True\n",
      "2017-12-11 12:24:42,646 - stpipe.Detector1Pipeline.refpix - INFO - Subtracting initial read from each integration\n",
      "2017-12-11 12:24:44,064 - stpipe.Detector1Pipeline.refpix - INFO - Adding initial read back in\n",
      "2017-12-11 12:24:45,182 - stpipe.Detector1Pipeline.refpix - INFO - Step refpix done\n",
      "2017-12-11 12:24:45,304 - stpipe.Detector1Pipeline.jump - INFO - Prefetch for GAIN reference file is '/Users/patrickkavanagh/crds_mirror/references/jwst/miri/jwst_miri_gain_0008.fits'.\n",
      "2017-12-11 12:24:45,305 - stpipe.Detector1Pipeline.jump - INFO - Prefetch for READNOISE reference file is '/Users/patrickkavanagh/crds_mirror/references/jwst/miri/jwst_miri_readnoise_0040.fits'.\n",
      "2017-12-11 12:24:45,361 - stpipe.Detector1Pipeline.jump - INFO - Step jump running with args (<jwst.datamodels.ramp.RampModel object at 0x111a52320>,).\n",
      "2017-12-11 12:24:45,428 - stpipe.Detector1Pipeline.jump - INFO - CR rejection threshold = 4 sigma\n",
      "2017-12-11 12:24:45,485 - stpipe.Detector1Pipeline.jump - INFO - Using GAIN reference file: /Users/patrickkavanagh/crds_mirror/references/jwst/miri/jwst_miri_gain_0008.fits\n",
      "2017-12-11 12:24:45,569 - stpipe.Detector1Pipeline.jump - INFO - Using READNOISE reference file: /Users/patrickkavanagh/crds_mirror/references/jwst/miri/jwst_miri_readnoise_0040.fits\n",
      "2017-12-11 12:24:46,654 - stpipe.Detector1Pipeline.jump - INFO - Executing two-point difference method\n",
      "2017-12-11 12:25:35,553 - stpipe.Detector1Pipeline.jump - INFO - Step jump done\n",
      "2017-12-11 12:25:35,665 - stpipe.Detector1Pipeline.ramp_fit - INFO - Prefetch for GAIN reference file is '/Users/patrickkavanagh/crds_mirror/references/jwst/miri/jwst_miri_gain_0008.fits'.\n",
      "2017-12-11 12:25:35,666 - stpipe.Detector1Pipeline.ramp_fit - INFO - Prefetch for READNOISE reference file is '/Users/patrickkavanagh/crds_mirror/references/jwst/miri/jwst_miri_readnoise_0040.fits'.\n",
      "2017-12-11 12:25:35,722 - stpipe.Detector1Pipeline.ramp_fit - INFO - Step ramp_fit running with args (<jwst.datamodels.ramp.RampModel object at 0x111ac4d30>,).\n",
      "2017-12-11 12:25:35,980 - stpipe.Detector1Pipeline.ramp_fit - INFO - Using READNOISE reference file: /Users/patrickkavanagh/crds_mirror/references/jwst/miri/jwst_miri_readnoise_0040.fits\n",
      "2017-12-11 12:25:36,015 - stpipe.Detector1Pipeline.ramp_fit - INFO - Using GAIN reference file: /Users/patrickkavanagh/crds_mirror/references/jwst/miri/jwst_miri_gain_0008.fits\n",
      "2017-12-11 12:25:36,041 - stpipe.Detector1Pipeline.ramp_fit - INFO - Using algorithm = ols\n",
      "2017-12-11 12:25:36,042 - stpipe.Detector1Pipeline.ramp_fit - INFO - Using weighting = optimal\n",
      "2017-12-11 12:25:36,057 - stpipe.Detector1Pipeline.ramp_fit - INFO - MIRI dataset has all final reads flagged as DO_NOT_USE.\n",
      "2017-12-11 12:25:36,081 - stpipe.Detector1Pipeline.ramp_fit - INFO - Effective integration time per group: 2.77504\n",
      "2017-12-11 12:27:19,293 - stpipe.Detector1Pipeline.ramp_fit - WARNING - /Users/patrickkavanagh/anaconda/envs/jwst/lib/python3.6/site-packages/jwst-0.7.8rc9.dev100-py3.6-macosx-10.7-x86_64.egg/jwst/ramp_fitting/utils.py:476: RuntimeWarning: invalid value encountered in true_divide\n",
      "  var_poisson = sum_p / (sum_wgt_p * nsegs_pix)\n",
      "\n",
      "2017-12-11 12:27:20,492 - stpipe.Detector1Pipeline.ramp_fit - WARNING - /Users/patrickkavanagh/anaconda/envs/jwst/lib/python3.6/site-packages/jwst-0.7.8rc9.dev100-py3.6-macosx-10.7-x86_64.egg/jwst/ramp_fitting/utils.py:482: RuntimeWarning: divide by zero encountered in true_divide\n",
      "  var_r = rn_1d**2 * 12./(segments**3. - segments)\n",
      "\n",
      "2017-12-11 12:27:21,255 - stpipe.Detector1Pipeline.ramp_fit - WARNING - /Users/patrickkavanagh/anaconda/envs/jwst/lib/python3.6/site-packages/jwst-0.7.8rc9.dev100-py3.6-macosx-10.7-x86_64.egg/jwst/ramp_fitting/utils.py:486: RuntimeWarning: invalid value encountered in true_divide\n",
      "  sum_r = (segments*var_r[:]/((nsegs_pix)**3.)).sum(axis=0)\n",
      "\n",
      "2017-12-11 12:27:21,466 - stpipe.Detector1Pipeline.ramp_fit - WARNING - /Users/patrickkavanagh/anaconda/envs/jwst/lib/python3.6/site-packages/jwst-0.7.8rc9.dev100-py3.6-macosx-10.7-x86_64.egg/jwst/ramp_fitting/utils.py:490: RuntimeWarning: invalid value encountered in true_divide\n",
      "  var_readnoise = sum_r/nsegs_pix\n",
      "\n",
      "2017-12-11 12:29:15,228 - stpipe.Detector1Pipeline.ramp_fit - WARNING - /Users/patrickkavanagh/anaconda/envs/jwst/lib/python3.6/site-packages/jwst-0.7.8rc9.dev100-py3.6-macosx-10.7-x86_64.egg/jwst/ramp_fitting/ramp_fit.py:324: RuntimeWarning: invalid value encountered in sqrt\n",
      "  err_2d_all = np.sqrt( var_p_2d_all + var_r_2d_all )\n",
      "\n",
      "2017-12-11 12:31:17,320 - stpipe.Detector1Pipeline.ramp_fit - WARNING - /Users/patrickkavanagh/anaconda/envs/jwst/lib/python3.6/site-packages/jwst-0.7.8rc9.dev100-py3.6-macosx-10.7-x86_64.egg/jwst/ramp_fitting/utils.py:621: RuntimeWarning: invalid value encountered in sqrt\n",
      "  cubemod.err = np.sqrt(var_p_int + var_r_int)\n",
      "\n",
      "2017-12-11 12:31:17,358 - stpipe.Detector1Pipeline.ramp_fit - INFO - Number of groups per integration: 50\n",
      "2017-12-11 12:31:17,359 - stpipe.Detector1Pipeline.ramp_fit - INFO - Number of integrations: 2\n",
      "2017-12-11 12:31:17,927 - stpipe.Detector1Pipeline.ramp_fit - INFO - Step ramp_fit done\n",
      "2017-12-11 12:31:18,192 - stpipe.Detector1Pipeline.gain_scale - INFO - Prefetch for GAIN reference file is '/Users/patrickkavanagh/crds_mirror/references/jwst/miri/jwst_miri_gain_0008.fits'.\n",
      "2017-12-11 12:31:18,253 - stpipe.Detector1Pipeline.gain_scale - INFO - Step gain_scale running with args (<jwst.datamodels.image.ImageModel object at 0x111a52ac8>,).\n",
      "2017-12-11 12:31:18,381 - stpipe.Detector1Pipeline.gain_scale - WARNING - GAINFACT not found in gain reference file\n",
      "2017-12-11 12:31:18,383 - stpipe.Detector1Pipeline.gain_scale - WARNING - Step will be skipped\n",
      "2017-12-11 12:31:18,391 - stpipe.Detector1Pipeline.gain_scale - INFO - Step gain_scale done\n",
      "2017-12-11 12:31:18,586 - stpipe.Detector1Pipeline.gain_scale - INFO - Prefetch for GAIN reference file is '/Users/patrickkavanagh/crds_mirror/references/jwst/miri/jwst_miri_gain_0008.fits'.\n",
      "2017-12-11 12:31:18,657 - stpipe.Detector1Pipeline.gain_scale - INFO - Step gain_scale running with args (<jwst.datamodels.cube.CubeModel object at 0x11188df28>,).\n",
      "2017-12-11 12:31:18,771 - stpipe.Detector1Pipeline.gain_scale - WARNING - GAINFACT not found in gain reference file\n",
      "2017-12-11 12:31:18,772 - stpipe.Detector1Pipeline.gain_scale - WARNING - Step will be skipped\n",
      "2017-12-11 12:31:18,779 - stpipe.Detector1Pipeline.gain_scale - INFO - Step gain_scale done\n",
      "2017-12-11 12:31:18,780 - stpipe.Detector1Pipeline - INFO - Step.save_model LRS-SLIT_demo_data_pipeline/det_image_1_MIRIMAGE_P750Lexp1_rateints.fits\n",
      "2017-12-11 12:31:18,938 - stpipe.Detector1Pipeline - INFO - ... ending calwebb_detector1\n",
      "2017-12-11 12:31:18,944 - stpipe.Detector1Pipeline - INFO - Saving file LRS-SLIT_demo_data_pipeline/det_image_1_MIRIMAGE_P750Lexp1_rate.fits\n",
      "2017-12-11 12:31:19,034 - stpipe.Detector1Pipeline - INFO - Step Detector1Pipeline done\n",
      "2017-12-11 12:31:19,043 - stpipe.Detector1Pipeline - INFO - Detector1Pipeline instance created.\n",
      "2017-12-11 12:31:19,044 - stpipe.Detector1Pipeline.group_scale - INFO - GroupScaleStep instance created.\n",
      "2017-12-11 12:31:19,046 - stpipe.Detector1Pipeline.dq_init - INFO - DQInitStep instance created.\n",
      "2017-12-11 12:31:19,047 - stpipe.Detector1Pipeline.saturation - INFO - SaturationStep instance created.\n"
     ]
    },
    {
     "name": "stderr",
     "output_type": "stream",
     "text": [
      "2017-12-11 12:31:19,049 - stpipe.Detector1Pipeline.ipc - INFO - IPCStep instance created.\n",
      "2017-12-11 12:31:19,050 - stpipe.Detector1Pipeline.superbias - INFO - SuperBiasStep instance created.\n",
      "2017-12-11 12:31:19,052 - stpipe.Detector1Pipeline.refpix - INFO - RefPixStep instance created.\n",
      "2017-12-11 12:31:19,053 - stpipe.Detector1Pipeline.rscd - INFO - RSCD_Step instance created.\n",
      "2017-12-11 12:31:19,054 - stpipe.Detector1Pipeline.lastframe - INFO - LastFrameStep instance created.\n",
      "2017-12-11 12:31:19,056 - stpipe.Detector1Pipeline.linearity - INFO - LinearityStep instance created.\n",
      "2017-12-11 12:31:19,057 - stpipe.Detector1Pipeline.dark_current - INFO - DarkCurrentStep instance created.\n",
      "2017-12-11 12:31:19,059 - stpipe.Detector1Pipeline.persistence - INFO - PersistenceStep instance created.\n",
      "2017-12-11 12:31:19,061 - stpipe.Detector1Pipeline.jump - INFO - JumpStep instance created.\n",
      "2017-12-11 12:31:19,063 - stpipe.Detector1Pipeline.ramp_fit - INFO - RampFitStep instance created.\n",
      "2017-12-11 12:31:19,064 - stpipe.Detector1Pipeline.gain_scale - INFO - GainScaleStep instance created.\n",
      "2017-12-11 12:31:21,785 - stpipe.Detector1Pipeline - INFO - Prefetch for DARK reference file is '/Users/patrickkavanagh/crds_mirror/references/jwst/miri/jwst_miri_dark_0058.fits'.\n",
      "2017-12-11 12:31:21,786 - stpipe.Detector1Pipeline - INFO - Prefetch for GAIN reference file is '/Users/patrickkavanagh/crds_mirror/references/jwst/miri/jwst_miri_gain_0008.fits'.\n",
      "2017-12-11 12:31:21,787 - stpipe.Detector1Pipeline - INFO - Prefetch for IPC reference file is '/Users/patrickkavanagh/crds_mirror/references/jwst/miri/jwst_miri_ipc_0009.fits'.\n",
      "2017-12-11 12:31:21,788 - stpipe.Detector1Pipeline - INFO - Prefetch for LINEARITY reference file is '/Users/patrickkavanagh/crds_mirror/references/jwst/miri/jwst_miri_linearity_0024.fits'.\n",
      "2017-12-11 12:31:21,789 - stpipe.Detector1Pipeline - INFO - Prefetch for MASK reference file is '/Users/patrickkavanagh/crds_mirror/references/jwst/miri/jwst_miri_mask_0019.fits'.\n",
      "2017-12-11 12:31:21,790 - stpipe.Detector1Pipeline - INFO - Prefetch for PERSAT reference file is 'N/A'.\n",
      "2017-12-11 12:31:21,791 - stpipe.Detector1Pipeline - INFO - Prefetch for READNOISE reference file is '/Users/patrickkavanagh/crds_mirror/references/jwst/miri/jwst_miri_readnoise_0040.fits'.\n",
      "2017-12-11 12:31:21,792 - stpipe.Detector1Pipeline - INFO - Prefetch for REFPIX reference file is 'N/A'.\n",
      "2017-12-11 12:31:21,793 - stpipe.Detector1Pipeline - INFO - Prefetch for RSCD reference file is '/Users/patrickkavanagh/crds_mirror/references/jwst/miri/jwst_miri_rscd_0004.fits'.\n",
      "2017-12-11 12:31:21,793 - stpipe.Detector1Pipeline - INFO - Prefetch for SATURATION reference file is '/Users/patrickkavanagh/crds_mirror/references/jwst/miri/jwst_miri_saturation_0019.fits'.\n",
      "2017-12-11 12:31:21,794 - stpipe.Detector1Pipeline - INFO - Prefetch for SUPERBIAS reference file is 'N/A'.\n",
      "2017-12-11 12:31:21,795 - stpipe.Detector1Pipeline - INFO - Prefetch for TRAPDENSITY reference file is 'N/A'.\n",
      "2017-12-11 12:31:21,796 - stpipe.Detector1Pipeline - INFO - Prefetch for TRAPPARS reference file is 'N/A'.\n",
      "2017-12-11 12:31:21,842 - stpipe.Detector1Pipeline - INFO - Step Detector1Pipeline running with args ('LRS-SLIT_demo_data/det_image_2_MIRIMAGE_P750Lexp1.fits',).\n",
      "2017-12-11 12:31:21,842 - stpipe.Detector1Pipeline - INFO - Starting calwebb_detector1 ...\n",
      "2017-12-11 12:31:22,987 - stpipe.Detector1Pipeline.group_scale - INFO - Step group_scale running with args (<jwst.datamodels.ramp.RampModel object at 0x111a3ed68>,).\n",
      "2017-12-11 12:31:23,015 - stpipe.Detector1Pipeline.group_scale - WARNING - NFRAMES=1 is a power of 2\n",
      "2017-12-11 12:31:23,016 - stpipe.Detector1Pipeline.group_scale - WARNING - Step will be skipped\n",
      "2017-12-11 12:31:23,021 - stpipe.Detector1Pipeline.group_scale - INFO - Step group_scale done\n",
      "2017-12-11 12:31:23,147 - stpipe.Detector1Pipeline.dq_init - INFO - Prefetch for MASK reference file is '/Users/patrickkavanagh/crds_mirror/references/jwst/miri/jwst_miri_mask_0019.fits'.\n",
      "2017-12-11 12:31:23,209 - stpipe.Detector1Pipeline.dq_init - INFO - Step dq_init running with args (<jwst.datamodels.ramp.RampModel object at 0x111921e48>,).\n",
      "2017-12-11 12:31:23,303 - stpipe.Detector1Pipeline.dq_init - INFO - Using MASK reference file /Users/patrickkavanagh/crds_mirror/references/jwst/miri/jwst_miri_mask_0019.fits\n",
      "2017-12-11 12:31:24,234 - stpipe.Detector1Pipeline.dq_init - INFO - Step dq_init done\n",
      "2017-12-11 12:31:24,532 - stpipe.Detector1Pipeline.saturation - INFO - Prefetch for SATURATION reference file is '/Users/patrickkavanagh/crds_mirror/references/jwst/miri/jwst_miri_saturation_0019.fits'.\n",
      "2017-12-11 12:31:24,600 - stpipe.Detector1Pipeline.saturation - INFO - Step saturation running with args (<jwst.datamodels.ramp.RampModel object at 0x111c0d0b8>,).\n",
      "2017-12-11 12:31:24,696 - stpipe.Detector1Pipeline.saturation - INFO - Using SATURATION reference file /Users/patrickkavanagh/crds_mirror/references/jwst/miri/jwst_miri_saturation_0019.fits\n",
      "2017-12-11 12:31:26,192 - stpipe.Detector1Pipeline.saturation - INFO - Step saturation done\n",
      "2017-12-11 12:31:26,318 - stpipe.Detector1Pipeline.ipc - INFO - Prefetch for IPC reference file is '/Users/patrickkavanagh/crds_mirror/references/jwst/miri/jwst_miri_ipc_0009.fits'.\n",
      "2017-12-11 12:31:26,375 - stpipe.Detector1Pipeline.ipc - INFO - Step ipc running with args (<jwst.datamodels.ramp.RampModel object at 0x1118fef28>,).\n",
      "2017-12-11 12:31:26,472 - stpipe.Detector1Pipeline.ipc - INFO - Using IPC reference file /Users/patrickkavanagh/crds_mirror/references/jwst/miri/jwst_miri_ipc_0009.fits\n",
      "2017-12-11 12:31:30,227 - stpipe.Detector1Pipeline.ipc - INFO - Step ipc done\n",
      "2017-12-11 12:31:30,372 - stpipe.Detector1Pipeline.linearity - INFO - Prefetch for LINEARITY reference file is '/Users/patrickkavanagh/crds_mirror/references/jwst/miri/jwst_miri_linearity_0024.fits'.\n",
      "2017-12-11 12:31:30,434 - stpipe.Detector1Pipeline.linearity - INFO - Step linearity running with args (<jwst.datamodels.ramp.RampModel object at 0x111a5ceb8>,).\n",
      "2017-12-11 12:31:30,514 - stpipe.Detector1Pipeline.linearity - INFO - Using Linearity reference file /Users/patrickkavanagh/crds_mirror/references/jwst/miri/jwst_miri_linearity_0024.fits\n",
      "2017-12-11 12:31:32,915 - stpipe.Detector1Pipeline.linearity - INFO - Step linearity done\n",
      "2017-12-11 12:31:33,056 - stpipe.Detector1Pipeline.rscd - INFO - Prefetch for RSCD reference file is '/Users/patrickkavanagh/crds_mirror/references/jwst/miri/jwst_miri_rscd_0004.fits'.\n",
      "2017-12-11 12:31:33,105 - stpipe.Detector1Pipeline.rscd - INFO - Step rscd running with args (<jwst.datamodels.ramp.RampModel object at 0x111939128>,).\n",
      "2017-12-11 12:31:33,197 - stpipe.Detector1Pipeline.rscd - INFO - Using RSCD reference file /Users/patrickkavanagh/crds_mirror/references/jwst/miri/jwst_miri_rscd_0004.fits\n",
      "2017-12-11 12:32:12,766 - stpipe.Detector1Pipeline.rscd - INFO - Step rscd done\n",
      "2017-12-11 12:32:12,841 - stpipe.Detector1Pipeline.lastframe - INFO - Step lastframe running with args (<jwst.datamodels.ramp.RampModel object at 0x213355240>,).\n",
      "2017-12-11 12:32:13,629 - stpipe.Detector1Pipeline.lastframe - INFO - Step lastframe done\n",
      "2017-12-11 12:32:13,793 - stpipe.Detector1Pipeline.dark_current - INFO - Prefetch for DARK reference file is '/Users/patrickkavanagh/crds_mirror/references/jwst/miri/jwst_miri_dark_0058.fits'.\n",
      "2017-12-11 12:32:13,873 - stpipe.Detector1Pipeline.dark_current - INFO - Step dark_current running with args (<jwst.datamodels.ramp.RampModel object at 0x214cc8908>,).\n",
      "2017-12-11 12:32:14,100 - stpipe.Detector1Pipeline.dark_current - INFO - Using DARK reference file /Users/patrickkavanagh/crds_mirror/references/jwst/miri/jwst_miri_dark_0058.fits\n",
      "2017-12-11 12:32:14,216 - stpipe.Detector1Pipeline.dark_current - INFO - Science data nints=2, ngroups=50, nframes=1, groupgap=0\n",
      "2017-12-11 12:32:14,217 - stpipe.Detector1Pipeline.dark_current - INFO - Dark data nints=2, ngroups=200, nframes=1, groupgap=0\n",
      "2017-12-11 12:32:21,661 - stpipe.Detector1Pipeline.dark_current - INFO - Step dark_current done\n",
      "2017-12-11 12:32:21,818 - stpipe.Detector1Pipeline.refpix - INFO - Prefetch for REFPIX reference file is 'N/A'.\n",
      "2017-12-11 12:32:21,876 - stpipe.Detector1Pipeline.refpix - INFO - Step refpix running with args (<jwst.datamodels.ramp.RampModel object at 0x111a66358>,).\n"
     ]
    },
    {
     "name": "stderr",
     "output_type": "stream",
     "text": [
      "2017-12-11 12:32:21,903 - stpipe.Detector1Pipeline.refpix - INFO - use_side_ref_pixels = True\n",
      "2017-12-11 12:32:21,904 - stpipe.Detector1Pipeline.refpix - INFO - odd_even_columns = True\n",
      "2017-12-11 12:32:21,905 - stpipe.Detector1Pipeline.refpix - INFO - side_smoothing_length = 11\n",
      "2017-12-11 12:32:21,905 - stpipe.Detector1Pipeline.refpix - INFO - side_gain = 1.000000\n",
      "2017-12-11 12:32:21,906 - stpipe.Detector1Pipeline.refpix - INFO - odd_even_rows = True\n",
      "2017-12-11 12:32:22,594 - stpipe.Detector1Pipeline.refpix - INFO - Subtracting initial read from each integration\n",
      "2017-12-11 12:32:24,045 - stpipe.Detector1Pipeline.refpix - INFO - Adding initial read back in\n",
      "2017-12-11 12:32:25,067 - stpipe.Detector1Pipeline.refpix - INFO - Step refpix done\n",
      "2017-12-11 12:32:25,216 - stpipe.Detector1Pipeline.jump - INFO - Prefetch for GAIN reference file is '/Users/patrickkavanagh/crds_mirror/references/jwst/miri/jwst_miri_gain_0008.fits'.\n",
      "2017-12-11 12:32:25,217 - stpipe.Detector1Pipeline.jump - INFO - Prefetch for READNOISE reference file is '/Users/patrickkavanagh/crds_mirror/references/jwst/miri/jwst_miri_readnoise_0040.fits'.\n",
      "2017-12-11 12:32:25,301 - stpipe.Detector1Pipeline.jump - INFO - Step jump running with args (<jwst.datamodels.ramp.RampModel object at 0x111a63240>,).\n",
      "2017-12-11 12:32:25,365 - stpipe.Detector1Pipeline.jump - INFO - CR rejection threshold = 4 sigma\n",
      "2017-12-11 12:32:25,431 - stpipe.Detector1Pipeline.jump - INFO - Using GAIN reference file: /Users/patrickkavanagh/crds_mirror/references/jwst/miri/jwst_miri_gain_0008.fits\n",
      "2017-12-11 12:32:25,517 - stpipe.Detector1Pipeline.jump - INFO - Using READNOISE reference file: /Users/patrickkavanagh/crds_mirror/references/jwst/miri/jwst_miri_readnoise_0040.fits\n",
      "2017-12-11 12:32:26,619 - stpipe.Detector1Pipeline.jump - INFO - Executing two-point difference method\n",
      "2017-12-11 12:33:16,223 - stpipe.Detector1Pipeline.jump - INFO - Step jump done\n",
      "2017-12-11 12:33:16,378 - stpipe.Detector1Pipeline.ramp_fit - INFO - Prefetch for GAIN reference file is '/Users/patrickkavanagh/crds_mirror/references/jwst/miri/jwst_miri_gain_0008.fits'.\n",
      "2017-12-11 12:33:16,379 - stpipe.Detector1Pipeline.ramp_fit - INFO - Prefetch for READNOISE reference file is '/Users/patrickkavanagh/crds_mirror/references/jwst/miri/jwst_miri_readnoise_0040.fits'.\n",
      "2017-12-11 12:33:16,435 - stpipe.Detector1Pipeline.ramp_fit - INFO - Step ramp_fit running with args (<jwst.datamodels.ramp.RampModel object at 0x1f09e17b8>,).\n",
      "2017-12-11 12:33:16,675 - stpipe.Detector1Pipeline.ramp_fit - INFO - Using READNOISE reference file: /Users/patrickkavanagh/crds_mirror/references/jwst/miri/jwst_miri_readnoise_0040.fits\n",
      "2017-12-11 12:33:16,702 - stpipe.Detector1Pipeline.ramp_fit - INFO - Using GAIN reference file: /Users/patrickkavanagh/crds_mirror/references/jwst/miri/jwst_miri_gain_0008.fits\n",
      "2017-12-11 12:33:16,725 - stpipe.Detector1Pipeline.ramp_fit - INFO - Using algorithm = ols\n",
      "2017-12-11 12:33:16,726 - stpipe.Detector1Pipeline.ramp_fit - INFO - Using weighting = optimal\n",
      "2017-12-11 12:33:16,739 - stpipe.Detector1Pipeline.ramp_fit - INFO - MIRI dataset has all final reads flagged as DO_NOT_USE.\n",
      "2017-12-11 12:33:16,756 - stpipe.Detector1Pipeline.ramp_fit - INFO - Effective integration time per group: 2.77504\n",
      "2017-12-11 12:34:59,388 - stpipe.Detector1Pipeline.ramp_fit - WARNING - /Users/patrickkavanagh/anaconda/envs/jwst/lib/python3.6/site-packages/jwst-0.7.8rc9.dev100-py3.6-macosx-10.7-x86_64.egg/jwst/ramp_fitting/utils.py:476: RuntimeWarning: invalid value encountered in true_divide\n",
      "  var_poisson = sum_p / (sum_wgt_p * nsegs_pix)\n",
      "\n",
      "2017-12-11 12:35:00,816 - stpipe.Detector1Pipeline.ramp_fit - WARNING - /Users/patrickkavanagh/anaconda/envs/jwst/lib/python3.6/site-packages/jwst-0.7.8rc9.dev100-py3.6-macosx-10.7-x86_64.egg/jwst/ramp_fitting/utils.py:482: RuntimeWarning: divide by zero encountered in true_divide\n",
      "  var_r = rn_1d**2 * 12./(segments**3. - segments)\n",
      "\n",
      "2017-12-11 12:35:01,543 - stpipe.Detector1Pipeline.ramp_fit - WARNING - /Users/patrickkavanagh/anaconda/envs/jwst/lib/python3.6/site-packages/jwst-0.7.8rc9.dev100-py3.6-macosx-10.7-x86_64.egg/jwst/ramp_fitting/utils.py:486: RuntimeWarning: invalid value encountered in true_divide\n",
      "  sum_r = (segments*var_r[:]/((nsegs_pix)**3.)).sum(axis=0)\n",
      "\n",
      "2017-12-11 12:35:01,690 - stpipe.Detector1Pipeline.ramp_fit - WARNING - /Users/patrickkavanagh/anaconda/envs/jwst/lib/python3.6/site-packages/jwst-0.7.8rc9.dev100-py3.6-macosx-10.7-x86_64.egg/jwst/ramp_fitting/utils.py:490: RuntimeWarning: invalid value encountered in true_divide\n",
      "  var_readnoise = sum_r/nsegs_pix\n",
      "\n",
      "2017-12-11 12:36:47,564 - stpipe.Detector1Pipeline.ramp_fit - WARNING - /Users/patrickkavanagh/anaconda/envs/jwst/lib/python3.6/site-packages/jwst-0.7.8rc9.dev100-py3.6-macosx-10.7-x86_64.egg/jwst/ramp_fitting/ramp_fit.py:324: RuntimeWarning: invalid value encountered in sqrt\n",
      "  err_2d_all = np.sqrt( var_p_2d_all + var_r_2d_all )\n",
      "\n",
      "2017-12-11 12:38:46,202 - stpipe.Detector1Pipeline.ramp_fit - WARNING - /Users/patrickkavanagh/anaconda/envs/jwst/lib/python3.6/site-packages/jwst-0.7.8rc9.dev100-py3.6-macosx-10.7-x86_64.egg/jwst/ramp_fitting/utils.py:621: RuntimeWarning: invalid value encountered in sqrt\n",
      "  cubemod.err = np.sqrt(var_p_int + var_r_int)\n",
      "\n",
      "2017-12-11 12:38:46,235 - stpipe.Detector1Pipeline.ramp_fit - INFO - Number of groups per integration: 50\n",
      "2017-12-11 12:38:46,235 - stpipe.Detector1Pipeline.ramp_fit - INFO - Number of integrations: 2\n",
      "2017-12-11 12:38:46,697 - stpipe.Detector1Pipeline.ramp_fit - INFO - Step ramp_fit done\n",
      "2017-12-11 12:38:46,989 - stpipe.Detector1Pipeline.gain_scale - INFO - Prefetch for GAIN reference file is '/Users/patrickkavanagh/crds_mirror/references/jwst/miri/jwst_miri_gain_0008.fits'.\n",
      "2017-12-11 12:38:47,043 - stpipe.Detector1Pipeline.gain_scale - INFO - Step gain_scale running with args (<jwst.datamodels.image.ImageModel object at 0x111a42710>,).\n",
      "2017-12-11 12:38:47,153 - stpipe.Detector1Pipeline.gain_scale - WARNING - GAINFACT not found in gain reference file\n",
      "2017-12-11 12:38:47,154 - stpipe.Detector1Pipeline.gain_scale - WARNING - Step will be skipped\n",
      "2017-12-11 12:38:47,159 - stpipe.Detector1Pipeline.gain_scale - INFO - Step gain_scale done\n",
      "2017-12-11 12:38:47,282 - stpipe.Detector1Pipeline.gain_scale - INFO - Prefetch for GAIN reference file is '/Users/patrickkavanagh/crds_mirror/references/jwst/miri/jwst_miri_gain_0008.fits'.\n",
      "2017-12-11 12:38:47,343 - stpipe.Detector1Pipeline.gain_scale - INFO - Step gain_scale running with args (<jwst.datamodels.cube.CubeModel object at 0x111a47080>,).\n",
      "2017-12-11 12:38:47,458 - stpipe.Detector1Pipeline.gain_scale - WARNING - GAINFACT not found in gain reference file\n",
      "2017-12-11 12:38:47,459 - stpipe.Detector1Pipeline.gain_scale - WARNING - Step will be skipped\n",
      "2017-12-11 12:38:47,465 - stpipe.Detector1Pipeline.gain_scale - INFO - Step gain_scale done\n",
      "2017-12-11 12:38:47,466 - stpipe.Detector1Pipeline - INFO - Step.save_model LRS-SLIT_demo_data_pipeline/det_image_2_MIRIMAGE_P750Lexp1_rateints.fits\n",
      "2017-12-11 12:38:47,603 - stpipe.Detector1Pipeline - INFO - ... ending calwebb_detector1\n",
      "2017-12-11 12:38:47,608 - stpipe.Detector1Pipeline - INFO - Saving file LRS-SLIT_demo_data_pipeline/det_image_2_MIRIMAGE_P750Lexp1_rate.fits\n",
      "2017-12-11 12:38:47,697 - stpipe.Detector1Pipeline - INFO - Step Detector1Pipeline done\n"
     ]
    }
   ],
   "source": [
    "for f in input_files:\n",
    "    Detector1Pipeline.call(f, save_results=True, output_dir=output_dir)\n"
   ]
  },
  {
   "cell_type": "markdown",
   "metadata": {},
   "source": [
    "#### Quick check of the pipeline steps applied in the output:"
   ]
  },
  {
   "cell_type": "code",
   "execution_count": 7,
   "metadata": {},
   "outputs": [
    {
     "name": "stdout",
     "output_type": "stream",
     "text": [
      "Check step information status:\n",
      "dq_init: COMPLETE\n",
      "saturation: COMPLETE\n",
      "linearity: COMPLETE\n",
      "rscd: COMPLETE\n",
      "lastframe: COMPLETE\n",
      "dark_current: COMPLETE\n",
      "refpix: COMPLETE\n",
      "jump: COMPLETE\n",
      "ramp_fit: COMPLETE\n"
     ]
    }
   ],
   "source": [
    "level2A_files = glob.glob(os.path.join(output_dir,'*_rate.fits'))\n",
    "\n",
    "with datamodels.open(level2A_files[0]) as dm:\n",
    "    # check the calibration step information\n",
    "    print('Check step information status:')\n",
    "    print('dq_init: %s' % dm.meta.cal_step.dq_init)\n",
    "    print('saturation: %s' % dm.meta.cal_step.saturation)\n",
    "    print('linearity: %s' % dm.meta.cal_step.linearity)\n",
    "    print('rscd: %s' % dm.meta.cal_step.rscd)\n",
    "    print('lastframe: %s' % dm.meta.cal_step.lastframe)\n",
    "    print('dark_current: %s' % dm.meta.cal_step.dark_sub)\n",
    "    print('refpix: %s' % dm.meta.cal_step.refpix)\n",
    "    print('jump: %s' % dm.meta.cal_step.jump)\n",
    "    print('ramp_fit: %s' % dm.meta.cal_step.ramp_fit)"
   ]
  },
  {
   "cell_type": "markdown",
   "metadata": {},
   "source": [
    "### Level 2B pipeline"
   ]
  },
  {
   "cell_type": "markdown",
   "metadata": {},
   "source": [
    "#### import the level 2B pipeline class and print description"
   ]
  },
  {
   "cell_type": "code",
   "execution_count": 8,
   "metadata": {},
   "outputs": [
    {
     "name": "stdout",
     "output_type": "stream",
     "text": [
      "\n",
      "    Spec2Pipeline: Processes JWST spectroscopic exposures from Level 2a to 2b.\n",
      "    Accepts a single exposure or an association as input.\n",
      "\n",
      "    Included steps are:\n",
      "    assign_wcs, background subtraction, NIRSpec MSA imprint subtraction,\n",
      "    NIRSpec MSA bad shutter flagging, 2-D subwindow extraction, flat field,\n",
      "    source type decision, straylight, fringe, pathloss, barshadow,  photom,\n",
      "    resample_spec, cube_build, and extract_1d.\n",
      "    \n"
     ]
    }
   ],
   "source": [
    "from jwst.pipeline import Spec2Pipeline\n",
    "print(Spec2Pipeline.__doc__)"
   ]
  },
  {
   "cell_type": "markdown",
   "metadata": {},
   "source": [
    "The bkg_subtract subtract step requires an association file defining the source and background exposures. At the moment, there is no easy way to create one, so we define it manually in a cell and write to the association json file. \n",
    "\n",
    "Note that the first nod in the MIRISim simulations is actually the background nod so we define this in the association file."
   ]
  },
  {
   "cell_type": "code",
   "execution_count": 9,
   "metadata": {
    "collapsed": true
   },
   "outputs": [],
   "source": [
    "import json\n",
    "\n",
    "data = {\n",
    "        \"degraded_status\": \"No known degraded exposures in association.\",\n",
    "        \"asn_rule\": \"DMS_Level3_Base\",\n",
    "        \"asn_pool\": \"none\",\n",
    "        \"asn_type\": \"None\",\n",
    "        \"constraints\": \"No constraints\",\n",
    "        \"program\": \"none\",\n",
    "        \"code_version\": \"0.7.1.beta5\",\n",
    "        \"asn_id\": \"a3001\",\n",
    "        \"products\": [\n",
    "        {\n",
    "            \"name\": \"lrs_bgsub_1\",\n",
    "            \"members\": [\n",
    "                {\n",
    "                    \"expname\": \"LRS-SLIT_demo_data_pipeline/det_image_2_MIRIMAGE_P750Lexp1_rate.fits\",\n",
    "                    \"exptype\": \"science\"\n",
    "                },\n",
    "                {\n",
    "                    \"expname\": \"LRS-SLIT_demo_data_pipeline/det_image_1_MIRIMAGE_P750Lexp1_rate.fits\",\n",
    "                    \"exptype\": \"background\"\n",
    "                }\n",
    "            ]\n",
    "        }\n",
    "    ],\n",
    "    \"target\": \"none\"\n",
    "}\n",
    "\n",
    "with open('LRS_lvl2_asn.json', 'w') as outfile:  \n",
    "    json.dump(data, outfile)"
   ]
  },
  {
   "cell_type": "markdown",
   "metadata": {},
   "source": [
    "#### run pipeline\n",
    "We pass the level 2 assocation file. The output is contained in the dm_2B data model and saved to a fits file ending in '_cal.fits'.\n",
    "\n",
    "The call to the pipeline will also extract a spectrum from this _cal.fits file (ending in _x1d.fits). "
   ]
  },
  {
   "cell_type": "code",
   "execution_count": 10,
   "metadata": {
    "scrolled": true
   },
   "outputs": [
    {
     "name": "stderr",
     "output_type": "stream",
     "text": [
      "2017-12-11 12:38:47,885 - stpipe.Spec2Pipeline - INFO - Spec2Pipeline instance created.\n",
      "2017-12-11 12:38:47,887 - stpipe.Spec2Pipeline.bkg_subtract - INFO - BackgroundStep instance created.\n",
      "2017-12-11 12:38:47,888 - stpipe.Spec2Pipeline.assign_wcs - INFO - AssignWcsStep instance created.\n",
      "2017-12-11 12:38:47,889 - stpipe.Spec2Pipeline.imprint_subtract - INFO - ImprintStep instance created.\n",
      "2017-12-11 12:38:47,891 - stpipe.Spec2Pipeline.msa_flagging - INFO - MSAFlagOpenStep instance created.\n",
      "2017-12-11 12:38:47,892 - stpipe.Spec2Pipeline.extract_2d - INFO - Extract2dStep instance created.\n",
      "2017-12-11 12:38:47,894 - stpipe.Spec2Pipeline.flat_field - INFO - FlatFieldStep instance created.\n",
      "2017-12-11 12:38:47,895 - stpipe.Spec2Pipeline.srctype - INFO - SourceTypeStep instance created.\n",
      "2017-12-11 12:38:47,896 - stpipe.Spec2Pipeline.straylight - INFO - StraylightStep instance created.\n",
      "2017-12-11 12:38:47,898 - stpipe.Spec2Pipeline.fringe - INFO - FringeStep instance created.\n",
      "2017-12-11 12:38:47,899 - stpipe.Spec2Pipeline.pathloss - INFO - PathLossStep instance created.\n",
      "2017-12-11 12:38:47,901 - stpipe.Spec2Pipeline.barshadow - INFO - BarShadowStep instance created.\n",
      "2017-12-11 12:38:47,902 - stpipe.Spec2Pipeline.photom - INFO - PhotomStep instance created.\n",
      "2017-12-11 12:38:47,904 - stpipe.Spec2Pipeline.resample_spec - INFO - ResampleSpecStep instance created.\n",
      "2017-12-11 12:38:47,906 - stpipe.Spec2Pipeline.cube_build - INFO - CubeBuildStep instance created.\n",
      "2017-12-11 12:38:47,907 - stpipe.Spec2Pipeline.extract_1d - INFO - Extract1dStep instance created.\n",
      "2017-12-11 12:38:48,176 - stpipe.Spec2Pipeline - INFO - Prefetch for AREA reference file is 'N/A'.\n",
      "2017-12-11 12:38:48,177 - stpipe.Spec2Pipeline - INFO - Prefetch for BARSHADOW reference file is 'N/A'.\n",
      "2017-12-11 12:38:48,178 - stpipe.Spec2Pipeline - INFO - Prefetch for CAMERA reference file is 'N/A'.\n",
      "2017-12-11 12:38:48,179 - stpipe.Spec2Pipeline - INFO - Prefetch for COLLIMATOR reference file is 'N/A'.\n",
      "2017-12-11 12:38:48,180 - stpipe.Spec2Pipeline - INFO - Prefetch for CUBEPAR reference file is 'N/A'.\n",
      "2017-12-11 12:38:48,181 - stpipe.Spec2Pipeline - INFO - Prefetch for DFLAT reference file is 'N/A'.\n",
      "2017-12-11 12:38:48,182 - stpipe.Spec2Pipeline - INFO - Prefetch for DISPERSER reference file is 'N/A'.\n",
      "2017-12-11 12:38:48,183 - stpipe.Spec2Pipeline - INFO - Prefetch for DISTORTION reference file is '/Users/patrickkavanagh/crds_mirror/references/jwst/miri/jwst_miri_distortion_0023.asdf'.\n",
      "2017-12-11 12:38:48,184 - stpipe.Spec2Pipeline - INFO - Prefetch for DRIZPARS reference file is '/Users/patrickkavanagh/crds_mirror/references/jwst/miri/jwst_miri_drizpars_0001.fits'.\n",
      "2017-12-11 12:38:48,185 - stpipe.Spec2Pipeline - INFO - Prefetch for EXTRACT1D reference file is '/Users/patrickkavanagh/crds_mirror/references/jwst/miri/jwst_miri_extract1d_0004.json'.\n",
      "2017-12-11 12:38:48,186 - stpipe.Spec2Pipeline - INFO - Prefetch for FFLAT reference file is 'N/A'.\n",
      "2017-12-11 12:38:48,186 - stpipe.Spec2Pipeline - INFO - Prefetch for FILTEROFFSET reference file is 'N/A'.\n",
      "2017-12-11 12:38:48,187 - stpipe.Spec2Pipeline - INFO - Prefetch for FLAT reference file is '/Users/patrickkavanagh/crds_mirror/references/jwst/miri/jwst_miri_flat_0244.fits'.\n",
      "2017-12-11 12:38:48,188 - stpipe.Spec2Pipeline - INFO - Prefetch for FORE reference file is 'N/A'.\n",
      "2017-12-11 12:38:48,189 - stpipe.Spec2Pipeline - INFO - Prefetch for FPA reference file is 'N/A'.\n",
      "2017-12-11 12:38:48,189 - stpipe.Spec2Pipeline - INFO - Prefetch for FRINGE reference file is 'N/A'.\n",
      "2017-12-11 12:38:48,190 - stpipe.Spec2Pipeline - INFO - Prefetch for IFUFORE reference file is 'N/A'.\n",
      "2017-12-11 12:38:48,191 - stpipe.Spec2Pipeline - INFO - Prefetch for IFUPOST reference file is 'N/A'.\n",
      "2017-12-11 12:38:48,191 - stpipe.Spec2Pipeline - INFO - Prefetch for IFUSLICER reference file is 'N/A'.\n",
      "2017-12-11 12:38:48,192 - stpipe.Spec2Pipeline - INFO - Prefetch for MSA reference file is 'N/A'.\n",
      "2017-12-11 12:38:48,193 - stpipe.Spec2Pipeline - INFO - Prefetch for MSAOPER reference file is 'N/A'.\n",
      "2017-12-11 12:38:48,194 - stpipe.Spec2Pipeline - INFO - Prefetch for OTE reference file is 'N/A'.\n",
      "2017-12-11 12:38:48,194 - stpipe.Spec2Pipeline - INFO - Prefetch for PATHLOSS reference file is 'N/A'.\n",
      "2017-12-11 12:38:48,195 - stpipe.Spec2Pipeline - INFO - Prefetch for PHOTOM reference file is '/Users/patrickkavanagh/crds_mirror/references/jwst/miri/jwst_miri_photom_0014.fits'.\n",
      "2017-12-11 12:38:48,196 - stpipe.Spec2Pipeline - INFO - Prefetch for REGIONS reference file is 'N/A'.\n",
      "2017-12-11 12:38:48,196 - stpipe.Spec2Pipeline - INFO - Prefetch for RESOL reference file is 'N/A'.\n",
      "2017-12-11 12:38:48,197 - stpipe.Spec2Pipeline - INFO - Prefetch for SFLAT reference file is 'N/A'.\n",
      "2017-12-11 12:38:48,198 - stpipe.Spec2Pipeline - INFO - Prefetch for SPECWCS reference file is '/Users/patrickkavanagh/crds_mirror/references/jwst/miri/jwst_miri_specwcs_0001.fits'.\n",
      "2017-12-11 12:38:48,198 - stpipe.Spec2Pipeline - INFO - Prefetch for STRAYMASK reference file is 'N/A'.\n",
      "2017-12-11 12:38:48,199 - stpipe.Spec2Pipeline - INFO - Prefetch for V2V3 reference file is 'N/A'.\n",
      "2017-12-11 12:38:48,200 - stpipe.Spec2Pipeline - INFO - Prefetch for WAVECORR reference file is 'N/A'.\n",
      "2017-12-11 12:38:48,200 - stpipe.Spec2Pipeline - INFO - Prefetch for WAVELENGTHRANGE reference file is 'N/A'.\n",
      "2017-12-11 12:38:48,314 - stpipe.Spec2Pipeline - INFO - Prefetch for AREA reference file is 'N/A'.\n",
      "2017-12-11 12:38:48,314 - stpipe.Spec2Pipeline - INFO - Prefetch for BARSHADOW reference file is 'N/A'.\n",
      "2017-12-11 12:38:48,315 - stpipe.Spec2Pipeline - INFO - Prefetch for CAMERA reference file is 'N/A'.\n",
      "2017-12-11 12:38:48,316 - stpipe.Spec2Pipeline - INFO - Prefetch for COLLIMATOR reference file is 'N/A'.\n",
      "2017-12-11 12:38:48,316 - stpipe.Spec2Pipeline - INFO - Prefetch for CUBEPAR reference file is 'N/A'.\n",
      "2017-12-11 12:38:48,317 - stpipe.Spec2Pipeline - INFO - Prefetch for DFLAT reference file is 'N/A'.\n",
      "2017-12-11 12:38:48,318 - stpipe.Spec2Pipeline - INFO - Prefetch for DISPERSER reference file is 'N/A'.\n",
      "2017-12-11 12:38:48,318 - stpipe.Spec2Pipeline - INFO - Prefetch for DISTORTION reference file is '/Users/patrickkavanagh/crds_mirror/references/jwst/miri/jwst_miri_distortion_0023.asdf'.\n",
      "2017-12-11 12:38:48,319 - stpipe.Spec2Pipeline - INFO - Prefetch for DRIZPARS reference file is '/Users/patrickkavanagh/crds_mirror/references/jwst/miri/jwst_miri_drizpars_0001.fits'.\n",
      "2017-12-11 12:38:48,320 - stpipe.Spec2Pipeline - INFO - Prefetch for EXTRACT1D reference file is '/Users/patrickkavanagh/crds_mirror/references/jwst/miri/jwst_miri_extract1d_0004.json'.\n",
      "2017-12-11 12:38:48,321 - stpipe.Spec2Pipeline - INFO - Prefetch for FFLAT reference file is 'N/A'.\n",
      "2017-12-11 12:38:48,321 - stpipe.Spec2Pipeline - INFO - Prefetch for FILTEROFFSET reference file is 'N/A'.\n",
      "2017-12-11 12:38:48,322 - stpipe.Spec2Pipeline - INFO - Prefetch for FLAT reference file is '/Users/patrickkavanagh/crds_mirror/references/jwst/miri/jwst_miri_flat_0244.fits'.\n",
      "2017-12-11 12:38:48,323 - stpipe.Spec2Pipeline - INFO - Prefetch for FORE reference file is 'N/A'.\n",
      "2017-12-11 12:38:48,323 - stpipe.Spec2Pipeline - INFO - Prefetch for FPA reference file is 'N/A'.\n",
      "2017-12-11 12:38:48,324 - stpipe.Spec2Pipeline - INFO - Prefetch for FRINGE reference file is 'N/A'.\n",
      "2017-12-11 12:38:48,325 - stpipe.Spec2Pipeline - INFO - Prefetch for IFUFORE reference file is 'N/A'.\n",
      "2017-12-11 12:38:48,325 - stpipe.Spec2Pipeline - INFO - Prefetch for IFUPOST reference file is 'N/A'.\n",
      "2017-12-11 12:38:48,326 - stpipe.Spec2Pipeline - INFO - Prefetch for IFUSLICER reference file is 'N/A'.\n",
      "2017-12-11 12:38:48,327 - stpipe.Spec2Pipeline - INFO - Prefetch for MSA reference file is 'N/A'.\n",
      "2017-12-11 12:38:48,327 - stpipe.Spec2Pipeline - INFO - Prefetch for MSAOPER reference file is 'N/A'.\n",
      "2017-12-11 12:38:48,328 - stpipe.Spec2Pipeline - INFO - Prefetch for OTE reference file is 'N/A'.\n",
      "2017-12-11 12:38:48,329 - stpipe.Spec2Pipeline - INFO - Prefetch for PATHLOSS reference file is 'N/A'.\n",
      "2017-12-11 12:38:48,329 - stpipe.Spec2Pipeline - INFO - Prefetch for PHOTOM reference file is '/Users/patrickkavanagh/crds_mirror/references/jwst/miri/jwst_miri_photom_0014.fits'.\n",
      "2017-12-11 12:38:48,330 - stpipe.Spec2Pipeline - INFO - Prefetch for REGIONS reference file is 'N/A'.\n"
     ]
    },
    {
     "name": "stderr",
     "output_type": "stream",
     "text": [
      "2017-12-11 12:38:48,331 - stpipe.Spec2Pipeline - INFO - Prefetch for RESOL reference file is 'N/A'.\n",
      "2017-12-11 12:38:48,331 - stpipe.Spec2Pipeline - INFO - Prefetch for SFLAT reference file is 'N/A'.\n",
      "2017-12-11 12:38:48,332 - stpipe.Spec2Pipeline - INFO - Prefetch for SPECWCS reference file is '/Users/patrickkavanagh/crds_mirror/references/jwst/miri/jwst_miri_specwcs_0001.fits'.\n",
      "2017-12-11 12:38:48,333 - stpipe.Spec2Pipeline - INFO - Prefetch for STRAYMASK reference file is 'N/A'.\n",
      "2017-12-11 12:38:48,333 - stpipe.Spec2Pipeline - INFO - Prefetch for V2V3 reference file is 'N/A'.\n",
      "2017-12-11 12:38:48,334 - stpipe.Spec2Pipeline - INFO - Prefetch for WAVECORR reference file is 'N/A'.\n",
      "2017-12-11 12:38:48,334 - stpipe.Spec2Pipeline - INFO - Prefetch for WAVELENGTHRANGE reference file is 'N/A'.\n",
      "2017-12-11 12:38:48,382 - stpipe.Spec2Pipeline - INFO - Step Spec2Pipeline running with args ('LRS_lvl2_asn.json',).\n",
      "2017-12-11 12:38:48,383 - stpipe.Spec2Pipeline - INFO - Starting calwebb_spec2 ...\n",
      "2017-12-11 12:38:48,387 - stpipe.Spec2Pipeline - INFO - Processing product lrs_bgsub_1\n",
      "2017-12-11 12:38:48,388 - stpipe.Spec2Pipeline - INFO - Working on input LRS-SLIT_demo_data_pipeline/det_image_2_MIRIMAGE_P750Lexp1_rate.fits ...\n",
      "2017-12-11 12:38:48,643 - stpipe.Spec2Pipeline.assign_wcs - INFO - Prefetch for CAMERA reference file is 'N/A'.\n",
      "2017-12-11 12:38:48,644 - stpipe.Spec2Pipeline.assign_wcs - INFO - Prefetch for COLLIMATOR reference file is 'N/A'.\n",
      "2017-12-11 12:38:48,645 - stpipe.Spec2Pipeline.assign_wcs - INFO - Prefetch for DISPERSER reference file is 'N/A'.\n",
      "2017-12-11 12:38:48,645 - stpipe.Spec2Pipeline.assign_wcs - INFO - Prefetch for DISTORTION reference file is '/Users/patrickkavanagh/crds_mirror/references/jwst/miri/jwst_miri_distortion_0023.asdf'.\n",
      "2017-12-11 12:38:48,646 - stpipe.Spec2Pipeline.assign_wcs - INFO - Prefetch for FILTEROFFSET reference file is 'N/A'.\n",
      "2017-12-11 12:38:48,647 - stpipe.Spec2Pipeline.assign_wcs - INFO - Prefetch for FORE reference file is 'N/A'.\n",
      "2017-12-11 12:38:48,647 - stpipe.Spec2Pipeline.assign_wcs - INFO - Prefetch for FPA reference file is 'N/A'.\n",
      "2017-12-11 12:38:48,648 - stpipe.Spec2Pipeline.assign_wcs - INFO - Prefetch for IFUFORE reference file is 'N/A'.\n",
      "2017-12-11 12:38:48,649 - stpipe.Spec2Pipeline.assign_wcs - INFO - Prefetch for IFUPOST reference file is 'N/A'.\n",
      "2017-12-11 12:38:48,650 - stpipe.Spec2Pipeline.assign_wcs - INFO - Prefetch for IFUSLICER reference file is 'N/A'.\n",
      "2017-12-11 12:38:48,650 - stpipe.Spec2Pipeline.assign_wcs - INFO - Prefetch for MSA reference file is 'N/A'.\n",
      "2017-12-11 12:38:48,651 - stpipe.Spec2Pipeline.assign_wcs - INFO - Prefetch for OTE reference file is 'N/A'.\n",
      "2017-12-11 12:38:48,652 - stpipe.Spec2Pipeline.assign_wcs - INFO - Prefetch for REGIONS reference file is 'N/A'.\n",
      "2017-12-11 12:38:48,652 - stpipe.Spec2Pipeline.assign_wcs - INFO - Prefetch for SPECWCS reference file is '/Users/patrickkavanagh/crds_mirror/references/jwst/miri/jwst_miri_specwcs_0001.fits'.\n",
      "2017-12-11 12:38:48,653 - stpipe.Spec2Pipeline.assign_wcs - INFO - Prefetch for V2V3 reference file is 'N/A'.\n",
      "2017-12-11 12:38:48,654 - stpipe.Spec2Pipeline.assign_wcs - INFO - Prefetch for WAVELENGTHRANGE reference file is 'N/A'.\n",
      "2017-12-11 12:38:48,712 - stpipe.Spec2Pipeline.assign_wcs - INFO - Step assign_wcs running with args (<jwst.datamodels.image.ImageModel object at 0x151cd41d0>,).\n",
      "2017-12-11 12:38:50,442 - stpipe.Spec2Pipeline.assign_wcs - INFO - There NaNs in s_region\n",
      "2017-12-11 12:38:50,444 - stpipe.Spec2Pipeline.assign_wcs - INFO - COMPLETED assign_wcs\n",
      "2017-12-11 12:38:50,497 - stpipe.Spec2Pipeline.assign_wcs - INFO - Step assign_wcs done\n",
      "2017-12-11 12:38:50,567 - stpipe.Spec2Pipeline.bkg_subtract - INFO - Step bkg_subtract running with args (<jwst.datamodels.image.ImageModel object at 0x111c0d278>, ['LRS-SLIT_demo_data_pipeline/det_image_1_MIRIMAGE_P750Lexp1_rate.fits']).\n",
      "2017-12-11 12:38:50,918 - stpipe.Spec2Pipeline.bkg_subtract - INFO - Step bkg_subtract done\n",
      "2017-12-11 12:38:51,169 - stpipe.Spec2Pipeline.flat_field - INFO - Prefetch for DFLAT reference file is 'N/A'.\n",
      "2017-12-11 12:38:51,170 - stpipe.Spec2Pipeline.flat_field - INFO - Prefetch for FFLAT reference file is 'N/A'.\n",
      "2017-12-11 12:38:51,171 - stpipe.Spec2Pipeline.flat_field - INFO - Prefetch for FLAT reference file is '/Users/patrickkavanagh/crds_mirror/references/jwst/miri/jwst_miri_flat_0244.fits'.\n",
      "2017-12-11 12:38:51,172 - stpipe.Spec2Pipeline.flat_field - INFO - Prefetch for SFLAT reference file is 'N/A'.\n",
      "2017-12-11 12:38:51,258 - stpipe.Spec2Pipeline.flat_field - INFO - Step flat_field running with args (<jwst.datamodels.image.ImageModel object at 0x215031a20>,).\n",
      "2017-12-11 12:38:51,500 - stpipe.Spec2Pipeline.flat_field - WARNING - Keyword CDP_PARTIAL_DATA does not correspond to an existing DQ mnemonic, so will be ignored\n",
      "2017-12-11 12:38:51,501 - stpipe.Spec2Pipeline.flat_field - WARNING - Keyword CDP_LOW_QUAL does not correspond to an existing DQ mnemonic, so will be ignored\n",
      "2017-12-11 12:38:51,501 - stpipe.Spec2Pipeline.flat_field - WARNING - Keyword CDP_UNRELIABLE_ERROR does not correspond to an existing DQ mnemonic, so will be ignored\n",
      "2017-12-11 12:38:51,507 - stpipe.Spec2Pipeline.flat_field - WARNING - Keyword DIFF_PATTERN does not correspond to an existing DQ mnemonic, so will be ignored\n",
      "2017-12-11 12:38:51,670 - stpipe.Spec2Pipeline.flat_field - INFO - Step flat_field done\n",
      "2017-12-11 12:38:51,742 - stpipe.Spec2Pipeline.srctype - INFO - Step srctype running with args (<jwst.datamodels.image.ImageModel object at 0x214f398d0>,).\n",
      "2017-12-11 12:38:51,778 - stpipe.Spec2Pipeline.srctype - INFO - Input EXP_TYPE is MIR_LRS-FIXEDSLIT\n",
      "2017-12-11 12:38:51,779 - stpipe.Spec2Pipeline.srctype - INFO - Input SRCTYPE is unknown. Setting to default value of POINT\n",
      "2017-12-11 12:38:51,797 - stpipe.Spec2Pipeline.srctype - INFO - Step srctype done\n",
      "2017-12-11 12:38:51,964 - stpipe.Spec2Pipeline.photom - INFO - Prefetch for AREA reference file is 'N/A'.\n",
      "2017-12-11 12:38:51,965 - stpipe.Spec2Pipeline.photom - INFO - Prefetch for PHOTOM reference file is '/Users/patrickkavanagh/crds_mirror/references/jwst/miri/jwst_miri_photom_0014.fits'.\n",
      "2017-12-11 12:38:52,051 - stpipe.Spec2Pipeline.photom - INFO - Step photom running with args (<jwst.datamodels.image.ImageModel object at 0x151c77cf8>,).\n",
      "2017-12-11 12:38:52,162 - stpipe.Spec2Pipeline.photom - INFO - Using photom reference file: /Users/patrickkavanagh/crds_mirror/references/jwst/miri/jwst_miri_photom_0014.fits\n",
      "2017-12-11 12:38:52,224 - stpipe.Spec2Pipeline.photom - INFO - Using area reference file: N/A\n",
      "2017-12-11 12:38:52,225 - stpipe.Spec2Pipeline.photom - INFO - Using instrument: MIRI\n",
      "2017-12-11 12:38:52,226 - stpipe.Spec2Pipeline.photom - INFO -  detector: MIRIMAGE\n",
      "2017-12-11 12:38:52,226 - stpipe.Spec2Pipeline.photom - INFO -  exp_type: MIR_LRS-FIXEDSLIT\n",
      "2017-12-11 12:38:52,227 - stpipe.Spec2Pipeline.photom - INFO -  filter: P750L\n",
      "2017-12-11 12:38:52,278 - stpipe.Spec2Pipeline.photom - INFO -  subarray: FULL\n",
      "2017-12-11 12:38:52,291 - stpipe.Spec2Pipeline.photom - INFO - Relative response table written.\n",
      "2017-12-11 12:38:52,292 - stpipe.Spec2Pipeline.photom - INFO - Writing PHOTMJSR with value: 1\n",
      "2017-12-11 12:38:52,311 - stpipe.Spec2Pipeline.photom - INFO - Step photom done\n",
      "2017-12-11 12:38:52,485 - stpipe.Spec2Pipeline.extract_1d - INFO - Prefetch for EXTRACT1D reference file is '/Users/patrickkavanagh/crds_mirror/references/jwst/miri/jwst_miri_extract1d_0004.json'.\n",
      "2017-12-11 12:38:52,551 - stpipe.Spec2Pipeline.extract_1d - INFO - Step extract_1d running with args (<jwst.datamodels.image.ImageModel object at 0x10b6dcd30>,).\n",
      "2017-12-11 12:38:52,672 - stpipe.Spec2Pipeline.extract_1d - INFO - Using EXTRACT1D reference file /Users/patrickkavanagh/crds_mirror/references/jwst/miri/jwst_miri_extract1d_0004.json\n",
      "2017-12-11 12:38:52,699 - stpipe.Spec2Pipeline.extract_1d - WARNING - spectral_order is None; using 1\n",
      "2017-12-11 12:38:52,721 - stpipe.Spec2Pipeline.extract_1d - WARNING - 1 NaNs in wavelength array; set to 0.01\n",
      "2017-12-11 12:38:52,758 - stpipe.Spec2Pipeline.extract_1d - WARNING - Using RELSENS, 388 elements were extrapolated; these values will be set to 1.\n",
      "2017-12-11 12:38:52,816 - stpipe.Spec2Pipeline.extract_1d - INFO - Saving file LRS-SLIT_demo_data_pipeline/lrs_bgsub_1_x1d.fits\n"
     ]
    },
    {
     "name": "stderr",
     "output_type": "stream",
     "text": [
      "2017-12-11 12:38:52,880 - stpipe.Spec2Pipeline.extract_1d - INFO - Step extract_1d done\n",
      "2017-12-11 12:38:52,881 - stpipe.Spec2Pipeline - INFO - Finished processing product lrs_bgsub_1\n",
      "2017-12-11 12:38:52,882 - stpipe.Spec2Pipeline - INFO - Step.save_model LRS-SLIT_demo_data_pipeline/lrs_bgsub_1_cal.fits\n",
      "2017-12-11 12:38:53,108 - stpipe.Spec2Pipeline - INFO - Ending calwebb_spec2\n",
      "2017-12-11 12:38:53,110 - stpipe.Spec2Pipeline - INFO - Step Spec2Pipeline done\n"
     ]
    }
   ],
   "source": [
    "Spec2Pipeline.call('LRS_lvl2_asn.json', save_results=True, output_dir=output_dir, steps={'extract_1d':{'save_results':True}})\n"
   ]
  },
  {
   "cell_type": "markdown",
   "metadata": {},
   "source": [
    "### check of output\n",
    "\n",
    "We can have a look at the steps applied to the level 2B file in the pipeline"
   ]
  },
  {
   "cell_type": "code",
   "execution_count": 11,
   "metadata": {},
   "outputs": [
    {
     "name": "stdout",
     "output_type": "stream",
     "text": [
      "Check step information status:\n",
      "assign_wcs: COMPLETE\n",
      "bkg_subtract: COMPLETE\n",
      "flat_field: COMPLETE\n",
      "srctype: COMPLETE\n",
      "photom: COMPLETE\n"
     ]
    }
   ],
   "source": [
    "# set the output file names\n",
    "level2B_files = glob.glob(os.path.join(output_dir,'*_cal.fits'))\n",
    "\n",
    "with datamodels.open(level2B_files[0]) as dm:\n",
    "    # check the calibration step information\n",
    "    print('Check step information status:')\n",
    "    print('assign_wcs: %s' % dm.meta.cal_step.assign_wcs)\n",
    "    print('bkg_subtract: %s' % dm.meta.cal_step.back_sub)\n",
    "    print('flat_field: %s' % dm.meta.cal_step.flat_field)\n",
    "    print('srctype: %s' % dm.meta.cal_step.srctype)\n",
    "    print('photom: %s' % dm.meta.cal_step.photom)\n"
   ]
  },
  {
   "cell_type": "markdown",
   "metadata": {},
   "source": [
    "While the photom step attaches the SRF to the _cal.fits file, it does not actually apply it so we must manually convert the extracted spectrum from DN/s to Jy using the SRF. We can look at the SRF while is located in the 'relsens' object in the metadata."
   ]
  },
  {
   "cell_type": "code",
   "execution_count": 12,
   "metadata": {},
   "outputs": [
    {
     "data": {
      "image/png": "[encoded data removed]",
      "text/plain": [
       "<matplotlib.figure.Figure at 0x111a52320>"
      ]
     },
     "metadata": {},
     "output_type": "display_data"
    }
   ],
   "source": [
    "with datamodels.open(level2B_files[0]) as dm:  \n",
    "    #print(dm.relsens)\n",
    "    relsens = np.array(dm.relsens, dtype=[('wavelength', 'f4'), ('response', 'i8')])\n",
    "    # plot--------------------------------------\n",
    "    fig, axs = plt.subplots(1, 1, figsize=(8, 6))\n",
    "\n",
    "    # plot input and output ramps of the first integration\n",
    "    axs.plot(relsens['wavelength'], relsens['response'], c='b', marker='o', markersize=2, \n",
    "             markeredgewidth=3, linestyle='-', linewidth=1, label='relsens')\n",
    "    axs.set_title('RELSENS', fontsize=15)\n",
    "    axs.set_xlabel('wavelength (micron)', fontsize=15)\n",
    "    axs.set_ylabel('SRF (DN/s/Jy)', fontsize=15)\n",
    "\n",
    "    plt.tight_layout(h_pad=0)\n",
    "    plt.show()"
   ]
  },
  {
   "cell_type": "markdown",
   "metadata": {},
   "source": [
    "#### plot the spectrum\n",
    "Using the SRF, we can flux calibrate and plot the extracted spectrum"
   ]
  },
  {
   "cell_type": "code",
   "execution_count": 13,
   "metadata": {},
   "outputs": [
    {
     "data": {
      "image/png": "[encoded data removed]",
      "text/plain": [
       "<matplotlib.figure.Figure at 0x112263828>"
      ]
     },
     "metadata": {},
     "output_type": "display_data"
    }
   ],
   "source": [
    "spec_file = glob.glob(os.path.join(output_dir,\"*x1d.fits\"))[0]\n",
    "dm = datamodels.open(spec_file)\n",
    "\n",
    "fig, axs = plt.subplots(1, 1, figsize=(10, 7))\n",
    "\n",
    "# convert the flux to Jy\n",
    "response_at_data = np.interp(dm.spec[0].spec_table['WAVELENGTH'][1:-1], relsens['wavelength'], relsens['response'])\n",
    "flux_Jy = dm.spec[0].spec_table['FLUX'][1:-1] / response_at_data\n",
    "\n",
    "# plot the spectrum \n",
    "axs.plot(dm.spec[0].spec_table['WAVELENGTH'][1:-1], flux_Jy, c='b', marker='.', \n",
    "         markersize=0, linestyle='-', linewidth=2)\n",
    "axs.set_ylabel(r'Flux (Jy)')\n",
    "axs.set_xlabel(r'Wavelength ($\\mu$m)')\n",
    "axs.set_xlim(5.0,14.0)\n",
    "axs.set_ylim(0,0.02)\n",
    "plt.grid()\n",
    "plt.show()"
   ]
  },
  {
   "cell_type": "code",
   "execution_count": null,
   "metadata": {
    "collapsed": true
   },
   "outputs": [],
   "source": []
  }
 ],
 "metadata": {
  "anaconda-cloud": {},
  "kernelspec": {
   "display_name": "Python 3",
   "language": "python",
   "name": "python3"
  },
  "language_info": {
   "codemirror_mode": {
    "name": "ipython",
    "version": 3
   },
   "file_extension": ".py",
   "mimetype": "text/x-python",
   "name": "python",
   "nbconvert_exporter": "python",
   "pygments_lexer": "ipython3",
   "version": "3.6.2"
  }
 },
 "nbformat": 4,
 "nbformat_minor": 1
}
