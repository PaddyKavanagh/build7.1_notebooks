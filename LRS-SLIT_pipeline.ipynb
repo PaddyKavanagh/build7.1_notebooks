{
 "cells": [
  {
   "cell_type": "markdown",
   "metadata": {},
   "source": [
    "# Run level 2A, 2B and 3 pipelines on LRS-SLIT data using jwst.pipeline classes"
   ]
  },
  {
   "cell_type": "markdown",
   "metadata": {},
   "source": [
    "### by Patrick Kavanagh (DIAS, Ireland) December 5th 2017"
   ]
  },
  {
   "cell_type": "markdown",
   "metadata": {},
   "source": [
    "This notebook demonstrates the execution of the level 2A and 2B pipelines for LRS-SLIT data in Python using the jwst.pipeline classes.\n",
    "\n",
    "For a description of the pipeline classes see:\n",
    "\n",
    "https://jwst-pipeline.readthedocs.io/en/latest/jwst/pipeline/index.html\n",
    "\n",
    "The files used in this notebook are a dithered (nodded) MIRISim simulation of a point source with a power-law spectrum (alpha=0) plus emission lines. The following steps are applied:\n",
    "\n",
    "- ramps to slopes pipeline (Detector1Pipeline)\n",
    "\n",
    "- CALSPEC2 steps (Spec2Pipeline), including background subtraction using the nods, spectral extraction\n",
    "\n",
    "- manual conversion of extracted spectrum to Jy using SRF\n"
   ]
  },
  {
   "cell_type": "markdown",
   "metadata": {},
   "source": [
    "#### Imports"
   ]
  },
  {
   "cell_type": "code",
   "execution_count": 1,
   "metadata": {
    "collapsed": true
   },
   "outputs": [],
   "source": [
    "import os, glob, shutil\n",
    "\n",
    "import numpy as np\n",
    "from astropy.io import fits\n",
    "from matplotlib.colors import LogNorm\n",
    "import matplotlib.pyplot as plt\n",
    "from subprocess import call\n",
    "\n",
    "from jwst import datamodels\n",
    "\n",
    "%matplotlib inline\n",
    "# %matplotlib notebook # if you want interactive plots"
   ]
  },
  {
   "cell_type": "markdown",
   "metadata": {},
   "source": [
    "#### Set input file:"
   ]
  },
  {
   "cell_type": "code",
   "execution_count": 2,
   "metadata": {
    "collapsed": true
   },
   "outputs": [],
   "source": [
    "# set input filenames and directory. In this example, the files are located in a folder called 'LRS-SLIT_demo_data'\n",
    "input_dir = 'LRS-SLIT_demo_data'\n",
    "\n",
    "# load all files including the background observation\n",
    "input_files = glob.glob(os.path.join(input_dir,'*.fits'))\n",
    "\n",
    "# set the output directory name\n",
    "output_dir = input_dir + '_pipeline'\n",
    "\n",
    "# if the output directory exists, delete it\n",
    "if os.path.exists(output_dir): shutil.rmtree(output_dir)\n",
    "\n",
    "# create the output directory\n",
    "os.mkdir(output_dir)"
   ]
  },
  {
   "cell_type": "markdown",
   "metadata": {},
   "source": [
    "#### print some information about the input files. We will just look at the first file"
   ]
  },
  {
   "cell_type": "code",
   "execution_count": 3,
   "metadata": {},
   "outputs": [
    {
     "name": "stdout",
     "output_type": "stream",
     "text": [
      "ID\t Type\t\t\t Filter\t subAr\t nInts\t nGrps\t rdPatt\t ExpTime (s)\n",
      "--------------------------------------------------------------------------------------------------\n",
      "MIRISim\t MIR_LRS-FIXEDSLIT\t P750L\t FULL\t 2\t 50\t FAST\t 277.5\n",
      "\n",
      "\n",
      "\n",
      "Filename: LRS-SLIT_demo_data/det_image_1_MIRIMAGE_P750Lexp1.fits\n",
      "No.    Name      Ver    Type      Cards   Dimensions   Format\n",
      "  0  PRIMARY       1 PrimaryHDU     109   ()      \n",
      "  1  SCI           1 ImageHDU        65   (1032, 1024, 50, 2)   float32   \n",
      "  2  REFOUT        1 ImageHDU        15   (258, 1024, 50, 2)   float32   \n",
      "  3  PIXELDQ       1 ImageHDU        11   (1032, 1024)   int32 (rescales to uint32)   \n",
      "  4  PIXELDQ_DEF    1 BinTableHDU     18   29R x 4C   [J, J, 40A, 128A]   \n",
      "  5  ASDF          1 ImageHDU         7   (533679309,)   uint8   \n"
     ]
    }
   ],
   "source": [
    "# print some info on input file\n",
    "with fits.open(input_files[0]) as hdulist:\n",
    "        \n",
    "    if hdulist[0].header['ORIGIN'] == 'STScI':\n",
    "        # specific information on instrument/exposure\n",
    "        identifier = hdulist[0].header['OBS_ID']\n",
    "        detector = hdulist[0].header['EXP_TYPE']\n",
    "        im_filter = hdulist[0].header['FILTER']\n",
    "        nInts = hdulist[0].header['NINTS']\n",
    "        nGroups = hdulist[0].header['NGROUPS']\n",
    "        readPatt = hdulist[0].header['READPATT']\n",
    "        expTime = hdulist[0].header['EFFEXPTM']\n",
    "        subArr = hdulist[0].header['SUBARRAY']\n",
    "        channel = hdulist[0].header['CHANNEL']\n",
    "        band = hdulist[0].header['BAND']\n",
    "        print(\"ID\\t\\t\\t Detector\\t Filter\\t subAr\\t nInts\\t nGrps\\t rdPatt\\t ExpTime (s)\")\n",
    "        print(\"--------------------------------------------------------------------------------------------------\")\n",
    "        print(\"%s\\t %s\\t %s\\t %s\\t %d\\t %d\\t %s\\t %0.1f\" % (identifier,detector,im_filter,subArr,nInts,nGroups,readPatt,expTime))\n",
    "        print(\"\\n\\n\")\n",
    "            \n",
    "    else:\n",
    "        # specific information on instrument/exposure\n",
    "        detector = hdulist[0].header['EXP_TYPE']\n",
    "        im_filter = hdulist[0].header['FILTER']\n",
    "        nInts = hdulist[0].header['NINTS']\n",
    "        nGroups = hdulist[0].header['NGROUPS']\n",
    "        readPatt = hdulist[0].header['READPATT']\n",
    "        expTime = hdulist[0].header['EFFEXPTM']\n",
    "        subArr = hdulist[0].header['SUBARRAY']\n",
    "        print(\"ID\\t Type\\t\\t\\t Filter\\t subAr\\t nInts\\t nGrps\\t rdPatt\\t ExpTime (s)\")\n",
    "        print(\"--------------------------------------------------------------------------------------------------\")\n",
    "        print(\"MIRISim\\t %s\\t %s\\t %s\\t %d\\t %d\\t %s\\t %0.1f\" % (detector,im_filter,subArr, nInts,nGroups,readPatt,expTime))\n",
    "        print(\"\\n\\n\")\n",
    "\n",
    "    # fits extension table\n",
    "    hdulist.info()"
   ]
  },
  {
   "cell_type": "markdown",
   "metadata": {},
   "source": [
    "#### show the last frame of the first integration for each file"
   ]
  },
  {
   "cell_type": "code",
   "execution_count": 4,
   "metadata": {},
   "outputs": [
    {
     "data": {
      "image/png": "[encoded data removed]",
      "text/plain": [
       "<matplotlib.figure.Figure at 0x10a936d68>"
      ]
     },
     "metadata": {},
     "output_type": "display_data"
    }
   ],
   "source": [
    "fig, axs = plt.subplots(1, 2, figsize=(12, 6))\n",
    "axs = axs.ravel()\n",
    "\n",
    "for n, f in enumerate(input_files):\n",
    "    with datamodels.open(f) as in_dm:\n",
    "        axs[n].imshow(in_dm.data[0,-1,:,:], cmap='jet', interpolation='nearest', origin='lower', norm=LogNorm(vmin=1e4,vmax=5e4))\n",
    "        axs[n].set_facecolor('black')\n",
    "\n",
    "plt.tight_layout()\n",
    "plt.show()"
   ]
  },
  {
   "cell_type": "markdown",
   "metadata": {},
   "source": [
    "### Level 2A pipeline (ramps-to-slopes)"
   ]
  },
  {
   "cell_type": "markdown",
   "metadata": {},
   "source": [
    "#### import the level 2A pipeline class and print description"
   ]
  },
  {
   "cell_type": "code",
   "execution_count": 5,
   "metadata": {
    "scrolled": false
   },
   "outputs": [
    {
     "name": "stdout",
     "output_type": "stream",
     "text": [
      "\n",
      "\n",
      "    Detector1Pipeline: Apply all calibration steps to raw JWST\n",
      "    ramps to produce a 2-D slope product. Included steps are:\n",
      "    group_scale, dq_init, saturation, ipc, superbias, refpix, rscd,\n",
      "    lastframe, linearity, dark_current, persistence, jump detection,\n",
      "    ramp_fit, and gain_scale.\n",
      "\n",
      "    \n"
     ]
    }
   ],
   "source": [
    "from jwst.pipeline import Detector1Pipeline\n",
    "print(Detector1Pipeline.__doc__)"
   ]
  },
  {
   "cell_type": "markdown",
   "metadata": {},
   "source": [
    "#### run pipeline\n",
    "We pass the level 1B files (demo data). The output level 2A files will be saved in the output_dir as '*_rate.fits'"
   ]
  },
  {
   "cell_type": "code",
   "execution_count": 6,
   "metadata": {
    "scrolled": true
   },
   "outputs": [
    {
     "name": "stderr",
     "output_type": "stream",
     "text": [
      "2017-12-13 12:36:40,069 - stpipe.Detector1Pipeline - INFO - Detector1Pipeline instance created.\n",
      "2017-12-13 12:36:40,070 - stpipe.Detector1Pipeline.group_scale - INFO - GroupScaleStep instance created.\n",
      "2017-12-13 12:36:40,072 - stpipe.Detector1Pipeline.dq_init - INFO - DQInitStep instance created.\n",
      "2017-12-13 12:36:40,073 - stpipe.Detector1Pipeline.saturation - INFO - SaturationStep instance created.\n",
      "2017-12-13 12:36:40,075 - stpipe.Detector1Pipeline.ipc - INFO - IPCStep instance created.\n",
      "2017-12-13 12:36:40,076 - stpipe.Detector1Pipeline.superbias - INFO - SuperBiasStep instance created.\n",
      "2017-12-13 12:36:40,079 - stpipe.Detector1Pipeline.refpix - INFO - RefPixStep instance created.\n",
      "2017-12-13 12:36:40,081 - stpipe.Detector1Pipeline.rscd - INFO - RSCD_Step instance created.\n",
      "2017-12-13 12:36:40,082 - stpipe.Detector1Pipeline.lastframe - INFO - LastFrameStep instance created.\n",
      "2017-12-13 12:36:40,084 - stpipe.Detector1Pipeline.linearity - INFO - LinearityStep instance created.\n",
      "2017-12-13 12:36:40,085 - stpipe.Detector1Pipeline.dark_current - INFO - DarkCurrentStep instance created.\n",
      "2017-12-13 12:36:40,087 - stpipe.Detector1Pipeline.persistence - INFO - PersistenceStep instance created.\n",
      "2017-12-13 12:36:40,088 - stpipe.Detector1Pipeline.jump - INFO - JumpStep instance created.\n",
      "2017-12-13 12:36:40,090 - stpipe.Detector1Pipeline.ramp_fit - INFO - RampFitStep instance created.\n",
      "2017-12-13 12:36:40,092 - stpipe.Detector1Pipeline.gain_scale - INFO - GainScaleStep instance created.\n",
      "2017-12-13 12:36:42,546 - stpipe.Detector1Pipeline - INFO - Prefetch for DARK reference file is '/Users/patrickkavanagh/crds_mirror/references/jwst/miri/jwst_miri_dark_0058.fits'.\n",
      "2017-12-13 12:36:42,548 - stpipe.Detector1Pipeline - INFO - Prefetch for GAIN reference file is '/Users/patrickkavanagh/crds_mirror/references/jwst/miri/jwst_miri_gain_0008.fits'.\n",
      "2017-12-13 12:36:42,549 - stpipe.Detector1Pipeline - INFO - Prefetch for IPC reference file is '/Users/patrickkavanagh/crds_mirror/references/jwst/miri/jwst_miri_ipc_0009.fits'.\n",
      "2017-12-13 12:36:42,550 - stpipe.Detector1Pipeline - INFO - Prefetch for LINEARITY reference file is '/Users/patrickkavanagh/crds_mirror/references/jwst/miri/jwst_miri_linearity_0024.fits'.\n",
      "2017-12-13 12:36:42,551 - stpipe.Detector1Pipeline - INFO - Prefetch for MASK reference file is '/Users/patrickkavanagh/crds_mirror/references/jwst/miri/jwst_miri_mask_0019.fits'.\n",
      "2017-12-13 12:36:42,552 - stpipe.Detector1Pipeline - INFO - Prefetch for PERSAT reference file is 'N/A'.\n",
      "2017-12-13 12:36:42,553 - stpipe.Detector1Pipeline - INFO - Prefetch for READNOISE reference file is '/Users/patrickkavanagh/crds_mirror/references/jwst/miri/jwst_miri_readnoise_0040.fits'.\n",
      "2017-12-13 12:36:42,554 - stpipe.Detector1Pipeline - INFO - Prefetch for REFPIX reference file is 'N/A'.\n",
      "2017-12-13 12:36:42,554 - stpipe.Detector1Pipeline - INFO - Prefetch for RSCD reference file is '/Users/patrickkavanagh/crds_mirror/references/jwst/miri/jwst_miri_rscd_0004.fits'.\n",
      "2017-12-13 12:36:42,555 - stpipe.Detector1Pipeline - INFO - Prefetch for SATURATION reference file is '/Users/patrickkavanagh/crds_mirror/references/jwst/miri/jwst_miri_saturation_0019.fits'.\n",
      "2017-12-13 12:36:42,556 - stpipe.Detector1Pipeline - INFO - Prefetch for SUPERBIAS reference file is 'N/A'.\n",
      "2017-12-13 12:36:42,557 - stpipe.Detector1Pipeline - INFO - Prefetch for TRAPDENSITY reference file is 'N/A'.\n",
      "2017-12-13 12:36:42,558 - stpipe.Detector1Pipeline - INFO - Prefetch for TRAPPARS reference file is 'N/A'.\n",
      "2017-12-13 12:36:42,609 - stpipe.Detector1Pipeline - INFO - Step Detector1Pipeline running with args ('LRS-SLIT_demo_data/det_image_1_MIRIMAGE_P750Lexp1.fits',).\n",
      "2017-12-13 12:36:42,610 - stpipe.Detector1Pipeline - INFO - Starting calwebb_detector1 ...\n",
      "2017-12-13 12:36:43,649 - stpipe.Detector1Pipeline.group_scale - INFO - Step group_scale running with args (<jwst.datamodels.ramp.RampModel object at 0x21ab14390>,).\n",
      "2017-12-13 12:36:43,675 - stpipe.Detector1Pipeline.group_scale - WARNING - NFRAMES=1 is a power of 2\n",
      "2017-12-13 12:36:43,676 - stpipe.Detector1Pipeline.group_scale - WARNING - Step will be skipped\n",
      "2017-12-13 12:36:43,681 - stpipe.Detector1Pipeline.group_scale - INFO - Step group_scale done\n",
      "2017-12-13 12:36:43,810 - stpipe.Detector1Pipeline.dq_init - INFO - Prefetch for MASK reference file is '/Users/patrickkavanagh/crds_mirror/references/jwst/miri/jwst_miri_mask_0019.fits'.\n",
      "2017-12-13 12:36:43,865 - stpipe.Detector1Pipeline.dq_init - INFO - Step dq_init running with args (<jwst.datamodels.ramp.RampModel object at 0x217ed97f0>,).\n",
      "2017-12-13 12:36:43,945 - stpipe.Detector1Pipeline.dq_init - INFO - Using MASK reference file /Users/patrickkavanagh/crds_mirror/references/jwst/miri/jwst_miri_mask_0019.fits\n",
      "2017-12-13 12:36:46,460 - stpipe.Detector1Pipeline.dq_init - INFO - Step dq_init done\n",
      "2017-12-13 12:36:46,717 - stpipe.Detector1Pipeline.saturation - INFO - Prefetch for SATURATION reference file is '/Users/patrickkavanagh/crds_mirror/references/jwst/miri/jwst_miri_saturation_0019.fits'.\n",
      "2017-12-13 12:36:46,772 - stpipe.Detector1Pipeline.saturation - INFO - Step saturation running with args (<jwst.datamodels.ramp.RampModel object at 0x21aa597b8>,).\n",
      "2017-12-13 12:36:46,852 - stpipe.Detector1Pipeline.saturation - INFO - Using SATURATION reference file /Users/patrickkavanagh/crds_mirror/references/jwst/miri/jwst_miri_saturation_0019.fits\n",
      "2017-12-13 12:36:48,162 - stpipe.Detector1Pipeline.saturation - INFO - Step saturation done\n",
      "2017-12-13 12:36:48,283 - stpipe.Detector1Pipeline.ipc - INFO - Prefetch for IPC reference file is '/Users/patrickkavanagh/crds_mirror/references/jwst/miri/jwst_miri_ipc_0009.fits'.\n",
      "2017-12-13 12:36:48,337 - stpipe.Detector1Pipeline.ipc - INFO - Step ipc running with args (<jwst.datamodels.ramp.RampModel object at 0x1178c7588>,).\n",
      "2017-12-13 12:36:48,418 - stpipe.Detector1Pipeline.ipc - INFO - Using IPC reference file /Users/patrickkavanagh/crds_mirror/references/jwst/miri/jwst_miri_ipc_0009.fits\n",
      "2017-12-13 12:36:52,247 - stpipe.Detector1Pipeline.ipc - INFO - Step ipc done\n",
      "2017-12-13 12:36:52,402 - stpipe.Detector1Pipeline.linearity - INFO - Prefetch for LINEARITY reference file is '/Users/patrickkavanagh/crds_mirror/references/jwst/miri/jwst_miri_linearity_0024.fits'.\n",
      "2017-12-13 12:36:52,460 - stpipe.Detector1Pipeline.linearity - INFO - Step linearity running with args (<jwst.datamodels.ramp.RampModel object at 0x1178c2b38>,).\n",
      "2017-12-13 12:36:52,537 - stpipe.Detector1Pipeline.linearity - INFO - Using Linearity reference file /Users/patrickkavanagh/crds_mirror/references/jwst/miri/jwst_miri_linearity_0024.fits\n",
      "2017-12-13 12:36:55,055 - stpipe.Detector1Pipeline.linearity - INFO - Step linearity done\n",
      "2017-12-13 12:36:55,217 - stpipe.Detector1Pipeline.rscd - INFO - Prefetch for RSCD reference file is '/Users/patrickkavanagh/crds_mirror/references/jwst/miri/jwst_miri_rscd_0004.fits'.\n",
      "2017-12-13 12:36:55,270 - stpipe.Detector1Pipeline.rscd - INFO - Step rscd running with args (<jwst.datamodels.ramp.RampModel object at 0x21adb53c8>,).\n",
      "2017-12-13 12:36:55,357 - stpipe.Detector1Pipeline.rscd - INFO - Using RSCD reference file /Users/patrickkavanagh/crds_mirror/references/jwst/miri/jwst_miri_rscd_0004.fits\n",
      "2017-12-13 12:37:30,960 - stpipe.Detector1Pipeline.rscd - INFO - Step rscd done\n",
      "2017-12-13 12:37:31,007 - stpipe.Detector1Pipeline.lastframe - INFO - Step lastframe running with args (<jwst.datamodels.ramp.RampModel object at 0x21ab14390>,).\n",
      "2017-12-13 12:37:31,790 - stpipe.Detector1Pipeline.lastframe - INFO - Step lastframe done\n",
      "2017-12-13 12:37:32,027 - stpipe.Detector1Pipeline.dark_current - INFO - Prefetch for DARK reference file is '/Users/patrickkavanagh/crds_mirror/references/jwst/miri/jwst_miri_dark_0058.fits'.\n",
      "2017-12-13 12:37:32,135 - stpipe.Detector1Pipeline.dark_current - INFO - Step dark_current running with args (<jwst.datamodels.ramp.RampModel object at 0x11784ddd8>,).\n",
      "2017-12-13 12:37:32,348 - stpipe.Detector1Pipeline.dark_current - INFO - Using DARK reference file /Users/patrickkavanagh/crds_mirror/references/jwst/miri/jwst_miri_dark_0058.fits\n",
      "2017-12-13 12:37:32,481 - stpipe.Detector1Pipeline.dark_current - INFO - Science data nints=2, ngroups=50, nframes=1, groupgap=0\n"
     ]
    },
    {
     "name": "stderr",
     "output_type": "stream",
     "text": [
      "2017-12-13 12:37:32,482 - stpipe.Detector1Pipeline.dark_current - INFO - Dark data nints=2, ngroups=200, nframes=1, groupgap=0\n",
      "2017-12-13 12:37:41,274 - stpipe.Detector1Pipeline.dark_current - INFO - Step dark_current done\n",
      "2017-12-13 12:37:41,426 - stpipe.Detector1Pipeline.refpix - INFO - Prefetch for REFPIX reference file is 'N/A'.\n",
      "2017-12-13 12:37:41,480 - stpipe.Detector1Pipeline.refpix - INFO - Step refpix running with args (<jwst.datamodels.ramp.RampModel object at 0x117815ac8>,).\n",
      "2017-12-13 12:37:41,508 - stpipe.Detector1Pipeline.refpix - INFO - use_side_ref_pixels = True\n",
      "2017-12-13 12:37:41,509 - stpipe.Detector1Pipeline.refpix - INFO - odd_even_columns = True\n",
      "2017-12-13 12:37:41,510 - stpipe.Detector1Pipeline.refpix - INFO - side_smoothing_length = 11\n",
      "2017-12-13 12:37:41,510 - stpipe.Detector1Pipeline.refpix - INFO - side_gain = 1.000000\n",
      "2017-12-13 12:37:41,511 - stpipe.Detector1Pipeline.refpix - INFO - odd_even_rows = True\n",
      "2017-12-13 12:37:42,220 - stpipe.Detector1Pipeline.refpix - INFO - Subtracting initial read from each integration\n",
      "2017-12-13 12:37:43,636 - stpipe.Detector1Pipeline.refpix - INFO - Adding initial read back in\n",
      "2017-12-13 12:37:44,674 - stpipe.Detector1Pipeline.refpix - INFO - Step refpix done\n",
      "2017-12-13 12:37:44,804 - stpipe.Detector1Pipeline.jump - INFO - Prefetch for GAIN reference file is '/Users/patrickkavanagh/crds_mirror/references/jwst/miri/jwst_miri_gain_0008.fits'.\n",
      "2017-12-13 12:37:44,805 - stpipe.Detector1Pipeline.jump - INFO - Prefetch for READNOISE reference file is '/Users/patrickkavanagh/crds_mirror/references/jwst/miri/jwst_miri_readnoise_0040.fits'.\n",
      "2017-12-13 12:37:44,861 - stpipe.Detector1Pipeline.jump - INFO - Step jump running with args (<jwst.datamodels.ramp.RampModel object at 0x117842320>,).\n",
      "2017-12-13 12:37:44,925 - stpipe.Detector1Pipeline.jump - INFO - CR rejection threshold = 4 sigma\n",
      "2017-12-13 12:37:44,984 - stpipe.Detector1Pipeline.jump - INFO - Using GAIN reference file: /Users/patrickkavanagh/crds_mirror/references/jwst/miri/jwst_miri_gain_0008.fits\n",
      "2017-12-13 12:37:45,068 - stpipe.Detector1Pipeline.jump - INFO - Using READNOISE reference file: /Users/patrickkavanagh/crds_mirror/references/jwst/miri/jwst_miri_readnoise_0040.fits\n",
      "2017-12-13 12:37:46,111 - stpipe.Detector1Pipeline.jump - INFO - Executing two-point difference method\n",
      "2017-12-13 12:38:36,416 - stpipe.Detector1Pipeline.jump - INFO - Step jump done\n",
      "2017-12-13 12:38:36,541 - stpipe.Detector1Pipeline.ramp_fit - INFO - Prefetch for GAIN reference file is '/Users/patrickkavanagh/crds_mirror/references/jwst/miri/jwst_miri_gain_0008.fits'.\n",
      "2017-12-13 12:38:36,541 - stpipe.Detector1Pipeline.ramp_fit - INFO - Prefetch for READNOISE reference file is '/Users/patrickkavanagh/crds_mirror/references/jwst/miri/jwst_miri_readnoise_0040.fits'.\n",
      "2017-12-13 12:38:36,603 - stpipe.Detector1Pipeline.ramp_fit - INFO - Step ramp_fit running with args (<jwst.datamodels.ramp.RampModel object at 0x1177c19b0>,).\n",
      "2017-12-13 12:38:36,915 - stpipe.Detector1Pipeline.ramp_fit - INFO - Using READNOISE reference file: /Users/patrickkavanagh/crds_mirror/references/jwst/miri/jwst_miri_readnoise_0040.fits\n",
      "2017-12-13 12:38:36,941 - stpipe.Detector1Pipeline.ramp_fit - INFO - Using GAIN reference file: /Users/patrickkavanagh/crds_mirror/references/jwst/miri/jwst_miri_gain_0008.fits\n",
      "2017-12-13 12:38:36,962 - stpipe.Detector1Pipeline.ramp_fit - INFO - Using algorithm = ols\n",
      "2017-12-13 12:38:36,963 - stpipe.Detector1Pipeline.ramp_fit - INFO - Using weighting = optimal\n",
      "2017-12-13 12:38:36,976 - stpipe.Detector1Pipeline.ramp_fit - INFO - MIRI dataset has all final reads flagged as DO_NOT_USE.\n",
      "2017-12-13 12:38:36,997 - stpipe.Detector1Pipeline.ramp_fit - INFO - Effective integration time per group: 2.77504\n",
      "2017-12-13 12:40:16,964 - stpipe.Detector1Pipeline.ramp_fit - WARNING - /Users/patrickkavanagh/anaconda/envs/jwst/lib/python3.6/site-packages/jwst-0.7.8rc9.dev100-py3.6-macosx-10.7-x86_64.egg/jwst/ramp_fitting/utils.py:476: RuntimeWarning: invalid value encountered in true_divide\n",
      "  var_poisson = sum_p / (sum_wgt_p * nsegs_pix)\n",
      "\n",
      "2017-12-13 12:40:18,255 - stpipe.Detector1Pipeline.ramp_fit - WARNING - /Users/patrickkavanagh/anaconda/envs/jwst/lib/python3.6/site-packages/jwst-0.7.8rc9.dev100-py3.6-macosx-10.7-x86_64.egg/jwst/ramp_fitting/utils.py:482: RuntimeWarning: divide by zero encountered in true_divide\n",
      "  var_r = rn_1d**2 * 12./(segments**3. - segments)\n",
      "\n",
      "2017-12-13 12:40:19,074 - stpipe.Detector1Pipeline.ramp_fit - WARNING - /Users/patrickkavanagh/anaconda/envs/jwst/lib/python3.6/site-packages/jwst-0.7.8rc9.dev100-py3.6-macosx-10.7-x86_64.egg/jwst/ramp_fitting/utils.py:486: RuntimeWarning: invalid value encountered in true_divide\n",
      "  sum_r = (segments*var_r[:]/((nsegs_pix)**3.)).sum(axis=0)\n",
      "\n",
      "2017-12-13 12:40:19,224 - stpipe.Detector1Pipeline.ramp_fit - WARNING - /Users/patrickkavanagh/anaconda/envs/jwst/lib/python3.6/site-packages/jwst-0.7.8rc9.dev100-py3.6-macosx-10.7-x86_64.egg/jwst/ramp_fitting/utils.py:490: RuntimeWarning: invalid value encountered in true_divide\n",
      "  var_readnoise = sum_r/nsegs_pix\n",
      "\n",
      "2017-12-13 12:42:04,181 - stpipe.Detector1Pipeline.ramp_fit - WARNING - /Users/patrickkavanagh/anaconda/envs/jwst/lib/python3.6/site-packages/jwst-0.7.8rc9.dev100-py3.6-macosx-10.7-x86_64.egg/jwst/ramp_fitting/ramp_fit.py:324: RuntimeWarning: invalid value encountered in sqrt\n",
      "  err_2d_all = np.sqrt( var_p_2d_all + var_r_2d_all )\n",
      "\n",
      "2017-12-13 12:43:58,034 - stpipe.Detector1Pipeline.ramp_fit - WARNING - /Users/patrickkavanagh/anaconda/envs/jwst/lib/python3.6/site-packages/jwst-0.7.8rc9.dev100-py3.6-macosx-10.7-x86_64.egg/jwst/ramp_fitting/utils.py:621: RuntimeWarning: invalid value encountered in sqrt\n",
      "  cubemod.err = np.sqrt(var_p_int + var_r_int)\n",
      "\n",
      "2017-12-13 12:43:58,061 - stpipe.Detector1Pipeline.ramp_fit - INFO - Number of groups per integration: 50\n",
      "2017-12-13 12:43:58,062 - stpipe.Detector1Pipeline.ramp_fit - INFO - Number of integrations: 2\n",
      "2017-12-13 12:43:58,488 - stpipe.Detector1Pipeline.ramp_fit - INFO - Step ramp_fit done\n",
      "2017-12-13 12:43:58,740 - stpipe.Detector1Pipeline.gain_scale - INFO - Prefetch for GAIN reference file is '/Users/patrickkavanagh/crds_mirror/references/jwst/miri/jwst_miri_gain_0008.fits'.\n",
      "2017-12-13 12:43:58,786 - stpipe.Detector1Pipeline.gain_scale - INFO - Step gain_scale running with args (<jwst.datamodels.image.ImageModel object at 0x27a3b26a0>,).\n",
      "2017-12-13 12:43:58,880 - stpipe.Detector1Pipeline.gain_scale - WARNING - GAINFACT not found in gain reference file\n",
      "2017-12-13 12:43:58,881 - stpipe.Detector1Pipeline.gain_scale - WARNING - Step will be skipped\n",
      "2017-12-13 12:43:58,887 - stpipe.Detector1Pipeline.gain_scale - INFO - Step gain_scale done\n",
      "2017-12-13 12:43:59,002 - stpipe.Detector1Pipeline.gain_scale - INFO - Prefetch for GAIN reference file is '/Users/patrickkavanagh/crds_mirror/references/jwst/miri/jwst_miri_gain_0008.fits'.\n",
      "2017-12-13 12:43:59,067 - stpipe.Detector1Pipeline.gain_scale - INFO - Step gain_scale running with args (<jwst.datamodels.cube.CubeModel object at 0x1177ee4e0>,).\n",
      "2017-12-13 12:43:59,158 - stpipe.Detector1Pipeline.gain_scale - WARNING - GAINFACT not found in gain reference file\n",
      "2017-12-13 12:43:59,159 - stpipe.Detector1Pipeline.gain_scale - WARNING - Step will be skipped\n",
      "2017-12-13 12:43:59,165 - stpipe.Detector1Pipeline.gain_scale - INFO - Step gain_scale done\n",
      "2017-12-13 12:43:59,166 - stpipe.Detector1Pipeline - INFO - Step.save_model LRS-SLIT_demo_data_pipeline/det_image_1_MIRIMAGE_P750Lexp1_rateints.fits\n",
      "2017-12-13 12:43:59,312 - stpipe.Detector1Pipeline - INFO - ... ending calwebb_detector1\n",
      "2017-12-13 12:43:59,317 - stpipe.Detector1Pipeline - INFO - Saving file LRS-SLIT_demo_data_pipeline/det_image_1_MIRIMAGE_P750Lexp1_rate.fits\n",
      "2017-12-13 12:43:59,413 - stpipe.Detector1Pipeline - INFO - Step Detector1Pipeline done\n",
      "2017-12-13 12:43:59,422 - stpipe.Detector1Pipeline - INFO - Detector1Pipeline instance created.\n",
      "2017-12-13 12:43:59,424 - stpipe.Detector1Pipeline.group_scale - INFO - GroupScaleStep instance created.\n",
      "2017-12-13 12:43:59,425 - stpipe.Detector1Pipeline.dq_init - INFO - DQInitStep instance created.\n",
      "2017-12-13 12:43:59,428 - stpipe.Detector1Pipeline.saturation - INFO - SaturationStep instance created.\n"
     ]
    },
    {
     "name": "stderr",
     "output_type": "stream",
     "text": [
      "2017-12-13 12:43:59,429 - stpipe.Detector1Pipeline.ipc - INFO - IPCStep instance created.\n",
      "2017-12-13 12:43:59,430 - stpipe.Detector1Pipeline.superbias - INFO - SuperBiasStep instance created.\n",
      "2017-12-13 12:43:59,432 - stpipe.Detector1Pipeline.refpix - INFO - RefPixStep instance created.\n",
      "2017-12-13 12:43:59,434 - stpipe.Detector1Pipeline.rscd - INFO - RSCD_Step instance created.\n",
      "2017-12-13 12:43:59,436 - stpipe.Detector1Pipeline.lastframe - INFO - LastFrameStep instance created.\n",
      "2017-12-13 12:43:59,437 - stpipe.Detector1Pipeline.linearity - INFO - LinearityStep instance created.\n",
      "2017-12-13 12:43:59,438 - stpipe.Detector1Pipeline.dark_current - INFO - DarkCurrentStep instance created.\n",
      "2017-12-13 12:43:59,441 - stpipe.Detector1Pipeline.persistence - INFO - PersistenceStep instance created.\n",
      "2017-12-13 12:43:59,442 - stpipe.Detector1Pipeline.jump - INFO - JumpStep instance created.\n",
      "2017-12-13 12:43:59,444 - stpipe.Detector1Pipeline.ramp_fit - INFO - RampFitStep instance created.\n",
      "2017-12-13 12:43:59,445 - stpipe.Detector1Pipeline.gain_scale - INFO - GainScaleStep instance created.\n",
      "2017-12-13 12:44:00,338 - stpipe.Detector1Pipeline - INFO - Prefetch for DARK reference file is '/Users/patrickkavanagh/crds_mirror/references/jwst/miri/jwst_miri_dark_0058.fits'.\n",
      "2017-12-13 12:44:00,339 - stpipe.Detector1Pipeline - INFO - Prefetch for GAIN reference file is '/Users/patrickkavanagh/crds_mirror/references/jwst/miri/jwst_miri_gain_0008.fits'.\n",
      "2017-12-13 12:44:00,339 - stpipe.Detector1Pipeline - INFO - Prefetch for IPC reference file is '/Users/patrickkavanagh/crds_mirror/references/jwst/miri/jwst_miri_ipc_0009.fits'.\n",
      "2017-12-13 12:44:00,340 - stpipe.Detector1Pipeline - INFO - Prefetch for LINEARITY reference file is '/Users/patrickkavanagh/crds_mirror/references/jwst/miri/jwst_miri_linearity_0024.fits'.\n",
      "2017-12-13 12:44:00,341 - stpipe.Detector1Pipeline - INFO - Prefetch for MASK reference file is '/Users/patrickkavanagh/crds_mirror/references/jwst/miri/jwst_miri_mask_0019.fits'.\n",
      "2017-12-13 12:44:00,342 - stpipe.Detector1Pipeline - INFO - Prefetch for PERSAT reference file is 'N/A'.\n",
      "2017-12-13 12:44:00,343 - stpipe.Detector1Pipeline - INFO - Prefetch for READNOISE reference file is '/Users/patrickkavanagh/crds_mirror/references/jwst/miri/jwst_miri_readnoise_0040.fits'.\n",
      "2017-12-13 12:44:00,343 - stpipe.Detector1Pipeline - INFO - Prefetch for REFPIX reference file is 'N/A'.\n",
      "2017-12-13 12:44:00,344 - stpipe.Detector1Pipeline - INFO - Prefetch for RSCD reference file is '/Users/patrickkavanagh/crds_mirror/references/jwst/miri/jwst_miri_rscd_0004.fits'.\n",
      "2017-12-13 12:44:00,345 - stpipe.Detector1Pipeline - INFO - Prefetch for SATURATION reference file is '/Users/patrickkavanagh/crds_mirror/references/jwst/miri/jwst_miri_saturation_0019.fits'.\n",
      "2017-12-13 12:44:00,346 - stpipe.Detector1Pipeline - INFO - Prefetch for SUPERBIAS reference file is 'N/A'.\n",
      "2017-12-13 12:44:00,346 - stpipe.Detector1Pipeline - INFO - Prefetch for TRAPDENSITY reference file is 'N/A'.\n",
      "2017-12-13 12:44:00,347 - stpipe.Detector1Pipeline - INFO - Prefetch for TRAPPARS reference file is 'N/A'.\n",
      "2017-12-13 12:44:00,396 - stpipe.Detector1Pipeline - INFO - Step Detector1Pipeline running with args ('LRS-SLIT_demo_data/det_image_2_MIRIMAGE_P750Lexp1.fits',).\n",
      "2017-12-13 12:44:00,397 - stpipe.Detector1Pipeline - INFO - Starting calwebb_detector1 ...\n",
      "2017-12-13 12:44:01,375 - stpipe.Detector1Pipeline.group_scale - INFO - Step group_scale running with args (<jwst.datamodels.ramp.RampModel object at 0x1178d7630>,).\n",
      "2017-12-13 12:44:01,402 - stpipe.Detector1Pipeline.group_scale - WARNING - NFRAMES=1 is a power of 2\n",
      "2017-12-13 12:44:01,402 - stpipe.Detector1Pipeline.group_scale - WARNING - Step will be skipped\n",
      "2017-12-13 12:44:01,406 - stpipe.Detector1Pipeline.group_scale - INFO - Step group_scale done\n",
      "2017-12-13 12:44:01,519 - stpipe.Detector1Pipeline.dq_init - INFO - Prefetch for MASK reference file is '/Users/patrickkavanagh/crds_mirror/references/jwst/miri/jwst_miri_mask_0019.fits'.\n",
      "2017-12-13 12:44:01,578 - stpipe.Detector1Pipeline.dq_init - INFO - Step dq_init running with args (<jwst.datamodels.ramp.RampModel object at 0x21adbc5c0>,).\n",
      "2017-12-13 12:44:01,667 - stpipe.Detector1Pipeline.dq_init - INFO - Using MASK reference file /Users/patrickkavanagh/crds_mirror/references/jwst/miri/jwst_miri_mask_0019.fits\n",
      "2017-12-13 12:44:04,296 - stpipe.Detector1Pipeline.dq_init - INFO - Step dq_init done\n",
      "2017-12-13 12:44:04,561 - stpipe.Detector1Pipeline.saturation - INFO - Prefetch for SATURATION reference file is '/Users/patrickkavanagh/crds_mirror/references/jwst/miri/jwst_miri_saturation_0019.fits'.\n",
      "2017-12-13 12:44:04,632 - stpipe.Detector1Pipeline.saturation - INFO - Step saturation running with args (<jwst.datamodels.ramp.RampModel object at 0x1177cc908>,).\n",
      "2017-12-13 12:44:04,726 - stpipe.Detector1Pipeline.saturation - INFO - Using SATURATION reference file /Users/patrickkavanagh/crds_mirror/references/jwst/miri/jwst_miri_saturation_0019.fits\n",
      "2017-12-13 12:44:06,079 - stpipe.Detector1Pipeline.saturation - INFO - Step saturation done\n",
      "2017-12-13 12:44:06,210 - stpipe.Detector1Pipeline.ipc - INFO - Prefetch for IPC reference file is '/Users/patrickkavanagh/crds_mirror/references/jwst/miri/jwst_miri_ipc_0009.fits'.\n",
      "2017-12-13 12:44:06,269 - stpipe.Detector1Pipeline.ipc - INFO - Step ipc running with args (<jwst.datamodels.ramp.RampModel object at 0x111445a20>,).\n",
      "2017-12-13 12:44:06,357 - stpipe.Detector1Pipeline.ipc - INFO - Using IPC reference file /Users/patrickkavanagh/crds_mirror/references/jwst/miri/jwst_miri_ipc_0009.fits\n",
      "2017-12-13 12:44:09,304 - stpipe.Detector1Pipeline.ipc - INFO - Step ipc done\n",
      "2017-12-13 12:44:09,420 - stpipe.Detector1Pipeline.linearity - INFO - Prefetch for LINEARITY reference file is '/Users/patrickkavanagh/crds_mirror/references/jwst/miri/jwst_miri_linearity_0024.fits'.\n",
      "2017-12-13 12:44:09,468 - stpipe.Detector1Pipeline.linearity - INFO - Step linearity running with args (<jwst.datamodels.ramp.RampModel object at 0x21adbc0b8>,).\n",
      "2017-12-13 12:44:09,537 - stpipe.Detector1Pipeline.linearity - INFO - Using Linearity reference file /Users/patrickkavanagh/crds_mirror/references/jwst/miri/jwst_miri_linearity_0024.fits\n",
      "2017-12-13 12:44:11,582 - stpipe.Detector1Pipeline.linearity - INFO - Step linearity done\n",
      "2017-12-13 12:44:11,724 - stpipe.Detector1Pipeline.rscd - INFO - Prefetch for RSCD reference file is '/Users/patrickkavanagh/crds_mirror/references/jwst/miri/jwst_miri_rscd_0004.fits'.\n",
      "2017-12-13 12:44:11,784 - stpipe.Detector1Pipeline.rscd - INFO - Step rscd running with args (<jwst.datamodels.ramp.RampModel object at 0x27a3b2588>,).\n",
      "2017-12-13 12:44:11,868 - stpipe.Detector1Pipeline.rscd - INFO - Using RSCD reference file /Users/patrickkavanagh/crds_mirror/references/jwst/miri/jwst_miri_rscd_0004.fits\n",
      "2017-12-13 12:44:46,392 - stpipe.Detector1Pipeline.rscd - INFO - Step rscd done\n",
      "2017-12-13 12:44:46,461 - stpipe.Detector1Pipeline.lastframe - INFO - Step lastframe running with args (<jwst.datamodels.ramp.RampModel object at 0x27a3b74e0>,).\n",
      "2017-12-13 12:44:47,101 - stpipe.Detector1Pipeline.lastframe - INFO - Step lastframe done\n",
      "2017-12-13 12:44:47,254 - stpipe.Detector1Pipeline.dark_current - INFO - Prefetch for DARK reference file is '/Users/patrickkavanagh/crds_mirror/references/jwst/miri/jwst_miri_dark_0058.fits'.\n",
      "2017-12-13 12:44:47,326 - stpipe.Detector1Pipeline.dark_current - INFO - Step dark_current running with args (<jwst.datamodels.ramp.RampModel object at 0x11784dfd0>,).\n",
      "2017-12-13 12:44:47,517 - stpipe.Detector1Pipeline.dark_current - INFO - Using DARK reference file /Users/patrickkavanagh/crds_mirror/references/jwst/miri/jwst_miri_dark_0058.fits\n",
      "2017-12-13 12:44:47,643 - stpipe.Detector1Pipeline.dark_current - INFO - Science data nints=2, ngroups=50, nframes=1, groupgap=0\n",
      "2017-12-13 12:44:47,644 - stpipe.Detector1Pipeline.dark_current - INFO - Dark data nints=2, ngroups=200, nframes=1, groupgap=0\n",
      "2017-12-13 12:44:55,381 - stpipe.Detector1Pipeline.dark_current - INFO - Step dark_current done\n",
      "2017-12-13 12:44:55,527 - stpipe.Detector1Pipeline.refpix - INFO - Prefetch for REFPIX reference file is 'N/A'.\n",
      "2017-12-13 12:44:55,589 - stpipe.Detector1Pipeline.refpix - INFO - Step refpix running with args (<jwst.datamodels.ramp.RampModel object at 0x1178c2390>,).\n"
     ]
    },
    {
     "name": "stderr",
     "output_type": "stream",
     "text": [
      "2017-12-13 12:44:55,613 - stpipe.Detector1Pipeline.refpix - INFO - use_side_ref_pixels = True\n",
      "2017-12-13 12:44:55,613 - stpipe.Detector1Pipeline.refpix - INFO - odd_even_columns = True\n",
      "2017-12-13 12:44:55,614 - stpipe.Detector1Pipeline.refpix - INFO - side_smoothing_length = 11\n",
      "2017-12-13 12:44:55,615 - stpipe.Detector1Pipeline.refpix - INFO - side_gain = 1.000000\n",
      "2017-12-13 12:44:55,616 - stpipe.Detector1Pipeline.refpix - INFO - odd_even_rows = True\n",
      "2017-12-13 12:44:56,296 - stpipe.Detector1Pipeline.refpix - INFO - Subtracting initial read from each integration\n",
      "2017-12-13 12:44:57,620 - stpipe.Detector1Pipeline.refpix - INFO - Adding initial read back in\n",
      "2017-12-13 12:44:58,620 - stpipe.Detector1Pipeline.refpix - INFO - Step refpix done\n",
      "2017-12-13 12:44:58,776 - stpipe.Detector1Pipeline.jump - INFO - Prefetch for GAIN reference file is '/Users/patrickkavanagh/crds_mirror/references/jwst/miri/jwst_miri_gain_0008.fits'.\n",
      "2017-12-13 12:44:58,777 - stpipe.Detector1Pipeline.jump - INFO - Prefetch for READNOISE reference file is '/Users/patrickkavanagh/crds_mirror/references/jwst/miri/jwst_miri_readnoise_0040.fits'.\n",
      "2017-12-13 12:44:58,827 - stpipe.Detector1Pipeline.jump - INFO - Step jump running with args (<jwst.datamodels.ramp.RampModel object at 0x1177d1710>,).\n",
      "2017-12-13 12:44:58,887 - stpipe.Detector1Pipeline.jump - INFO - CR rejection threshold = 4 sigma\n",
      "2017-12-13 12:44:58,952 - stpipe.Detector1Pipeline.jump - INFO - Using GAIN reference file: /Users/patrickkavanagh/crds_mirror/references/jwst/miri/jwst_miri_gain_0008.fits\n",
      "2017-12-13 12:44:59,044 - stpipe.Detector1Pipeline.jump - INFO - Using READNOISE reference file: /Users/patrickkavanagh/crds_mirror/references/jwst/miri/jwst_miri_readnoise_0040.fits\n",
      "2017-12-13 12:45:00,063 - stpipe.Detector1Pipeline.jump - INFO - Executing two-point difference method\n",
      "2017-12-13 12:45:45,837 - stpipe.Detector1Pipeline.jump - INFO - Step jump done\n",
      "2017-12-13 12:45:45,984 - stpipe.Detector1Pipeline.ramp_fit - INFO - Prefetch for GAIN reference file is '/Users/patrickkavanagh/crds_mirror/references/jwst/miri/jwst_miri_gain_0008.fits'.\n",
      "2017-12-13 12:45:45,985 - stpipe.Detector1Pipeline.ramp_fit - INFO - Prefetch for READNOISE reference file is '/Users/patrickkavanagh/crds_mirror/references/jwst/miri/jwst_miri_readnoise_0040.fits'.\n",
      "2017-12-13 12:45:46,044 - stpipe.Detector1Pipeline.ramp_fit - INFO - Step ramp_fit running with args (<jwst.datamodels.ramp.RampModel object at 0x1177d5160>,).\n",
      "2017-12-13 12:45:46,268 - stpipe.Detector1Pipeline.ramp_fit - INFO - Using READNOISE reference file: /Users/patrickkavanagh/crds_mirror/references/jwst/miri/jwst_miri_readnoise_0040.fits\n",
      "2017-12-13 12:45:46,293 - stpipe.Detector1Pipeline.ramp_fit - INFO - Using GAIN reference file: /Users/patrickkavanagh/crds_mirror/references/jwst/miri/jwst_miri_gain_0008.fits\n",
      "2017-12-13 12:45:46,317 - stpipe.Detector1Pipeline.ramp_fit - INFO - Using algorithm = ols\n",
      "2017-12-13 12:45:46,318 - stpipe.Detector1Pipeline.ramp_fit - INFO - Using weighting = optimal\n",
      "2017-12-13 12:45:46,330 - stpipe.Detector1Pipeline.ramp_fit - INFO - MIRI dataset has all final reads flagged as DO_NOT_USE.\n",
      "2017-12-13 12:45:46,351 - stpipe.Detector1Pipeline.ramp_fit - INFO - Effective integration time per group: 2.77504\n",
      "2017-12-13 12:47:23,649 - stpipe.Detector1Pipeline.ramp_fit - WARNING - /Users/patrickkavanagh/anaconda/envs/jwst/lib/python3.6/site-packages/jwst-0.7.8rc9.dev100-py3.6-macosx-10.7-x86_64.egg/jwst/ramp_fitting/utils.py:476: RuntimeWarning: invalid value encountered in true_divide\n",
      "  var_poisson = sum_p / (sum_wgt_p * nsegs_pix)\n",
      "\n",
      "2017-12-13 12:47:24,904 - stpipe.Detector1Pipeline.ramp_fit - WARNING - /Users/patrickkavanagh/anaconda/envs/jwst/lib/python3.6/site-packages/jwst-0.7.8rc9.dev100-py3.6-macosx-10.7-x86_64.egg/jwst/ramp_fitting/utils.py:482: RuntimeWarning: divide by zero encountered in true_divide\n",
      "  var_r = rn_1d**2 * 12./(segments**3. - segments)\n",
      "\n",
      "2017-12-13 12:47:25,721 - stpipe.Detector1Pipeline.ramp_fit - WARNING - /Users/patrickkavanagh/anaconda/envs/jwst/lib/python3.6/site-packages/jwst-0.7.8rc9.dev100-py3.6-macosx-10.7-x86_64.egg/jwst/ramp_fitting/utils.py:486: RuntimeWarning: invalid value encountered in true_divide\n",
      "  sum_r = (segments*var_r[:]/((nsegs_pix)**3.)).sum(axis=0)\n",
      "\n",
      "2017-12-13 12:47:25,859 - stpipe.Detector1Pipeline.ramp_fit - WARNING - /Users/patrickkavanagh/anaconda/envs/jwst/lib/python3.6/site-packages/jwst-0.7.8rc9.dev100-py3.6-macosx-10.7-x86_64.egg/jwst/ramp_fitting/utils.py:490: RuntimeWarning: invalid value encountered in true_divide\n",
      "  var_readnoise = sum_r/nsegs_pix\n",
      "\n",
      "2017-12-13 12:49:17,577 - stpipe.Detector1Pipeline.ramp_fit - WARNING - /Users/patrickkavanagh/anaconda/envs/jwst/lib/python3.6/site-packages/jwst-0.7.8rc9.dev100-py3.6-macosx-10.7-x86_64.egg/jwst/ramp_fitting/ramp_fit.py:324: RuntimeWarning: invalid value encountered in sqrt\n",
      "  err_2d_all = np.sqrt( var_p_2d_all + var_r_2d_all )\n",
      "\n",
      "2017-12-13 12:51:21,467 - stpipe.Detector1Pipeline.ramp_fit - WARNING - /Users/patrickkavanagh/anaconda/envs/jwst/lib/python3.6/site-packages/jwst-0.7.8rc9.dev100-py3.6-macosx-10.7-x86_64.egg/jwst/ramp_fitting/utils.py:621: RuntimeWarning: invalid value encountered in sqrt\n",
      "  cubemod.err = np.sqrt(var_p_int + var_r_int)\n",
      "\n",
      "2017-12-13 12:51:21,497 - stpipe.Detector1Pipeline.ramp_fit - INFO - Number of groups per integration: 50\n",
      "2017-12-13 12:51:21,498 - stpipe.Detector1Pipeline.ramp_fit - INFO - Number of integrations: 2\n",
      "2017-12-13 12:51:21,943 - stpipe.Detector1Pipeline.ramp_fit - INFO - Step ramp_fit done\n",
      "2017-12-13 12:51:22,192 - stpipe.Detector1Pipeline.gain_scale - INFO - Prefetch for GAIN reference file is '/Users/patrickkavanagh/crds_mirror/references/jwst/miri/jwst_miri_gain_0008.fits'.\n",
      "2017-12-13 12:51:22,255 - stpipe.Detector1Pipeline.gain_scale - INFO - Step gain_scale running with args (<jwst.datamodels.image.ImageModel object at 0x117857b38>,).\n",
      "2017-12-13 12:51:22,369 - stpipe.Detector1Pipeline.gain_scale - WARNING - GAINFACT not found in gain reference file\n",
      "2017-12-13 12:51:22,369 - stpipe.Detector1Pipeline.gain_scale - WARNING - Step will be skipped\n",
      "2017-12-13 12:51:22,375 - stpipe.Detector1Pipeline.gain_scale - INFO - Step gain_scale done\n",
      "2017-12-13 12:51:22,508 - stpipe.Detector1Pipeline.gain_scale - INFO - Prefetch for GAIN reference file is '/Users/patrickkavanagh/crds_mirror/references/jwst/miri/jwst_miri_gain_0008.fits'.\n",
      "2017-12-13 12:51:22,559 - stpipe.Detector1Pipeline.gain_scale - INFO - Step gain_scale running with args (<jwst.datamodels.cube.CubeModel object at 0x21aa91c88>,).\n",
      "2017-12-13 12:51:22,652 - stpipe.Detector1Pipeline.gain_scale - WARNING - GAINFACT not found in gain reference file\n",
      "2017-12-13 12:51:22,653 - stpipe.Detector1Pipeline.gain_scale - WARNING - Step will be skipped\n",
      "2017-12-13 12:51:22,659 - stpipe.Detector1Pipeline.gain_scale - INFO - Step gain_scale done\n",
      "2017-12-13 12:51:22,660 - stpipe.Detector1Pipeline - INFO - Step.save_model LRS-SLIT_demo_data_pipeline/det_image_2_MIRIMAGE_P750Lexp1_rateints.fits\n",
      "2017-12-13 12:51:22,789 - stpipe.Detector1Pipeline - INFO - ... ending calwebb_detector1\n",
      "2017-12-13 12:51:22,794 - stpipe.Detector1Pipeline - INFO - Saving file LRS-SLIT_demo_data_pipeline/det_image_2_MIRIMAGE_P750Lexp1_rate.fits\n",
      "2017-12-13 12:51:22,883 - stpipe.Detector1Pipeline - INFO - Step Detector1Pipeline done\n"
     ]
    }
   ],
   "source": [
    "for f in input_files:\n",
    "    Detector1Pipeline.call(f, save_results=True, output_dir=output_dir)\n"
   ]
  },
  {
   "cell_type": "markdown",
   "metadata": {},
   "source": [
    "#### Quick check of the pipeline steps applied in the output:"
   ]
  },
  {
   "cell_type": "code",
   "execution_count": 7,
   "metadata": {},
   "outputs": [
    {
     "name": "stdout",
     "output_type": "stream",
     "text": [
      "Check step information status:\n",
      "dq_init: COMPLETE\n",
      "saturation: COMPLETE\n",
      "linearity: COMPLETE\n",
      "rscd: COMPLETE\n",
      "lastframe: COMPLETE\n",
      "dark_current: COMPLETE\n",
      "refpix: COMPLETE\n",
      "jump: COMPLETE\n",
      "ramp_fit: COMPLETE\n"
     ]
    }
   ],
   "source": [
    "level2A_files = glob.glob(os.path.join(output_dir,'*_rate.fits'))\n",
    "\n",
    "with datamodels.open(level2A_files[0]) as dm:\n",
    "    # check the calibration step information\n",
    "    print('Check step information status:')\n",
    "    print('dq_init: %s' % dm.meta.cal_step.dq_init)\n",
    "    print('saturation: %s' % dm.meta.cal_step.saturation)\n",
    "    print('linearity: %s' % dm.meta.cal_step.linearity)\n",
    "    print('rscd: %s' % dm.meta.cal_step.rscd)\n",
    "    print('lastframe: %s' % dm.meta.cal_step.lastframe)\n",
    "    print('dark_current: %s' % dm.meta.cal_step.dark_sub)\n",
    "    print('refpix: %s' % dm.meta.cal_step.refpix)\n",
    "    print('jump: %s' % dm.meta.cal_step.jump)\n",
    "    print('ramp_fit: %s' % dm.meta.cal_step.ramp_fit)"
   ]
  },
  {
   "cell_type": "markdown",
   "metadata": {},
   "source": [
    "### Level 2B pipeline"
   ]
  },
  {
   "cell_type": "markdown",
   "metadata": {},
   "source": [
    "#### import the level 2B pipeline class and print description"
   ]
  },
  {
   "cell_type": "code",
   "execution_count": 8,
   "metadata": {},
   "outputs": [
    {
     "name": "stdout",
     "output_type": "stream",
     "text": [
      "\n",
      "    Spec2Pipeline: Processes JWST spectroscopic exposures from Level 2a to 2b.\n",
      "    Accepts a single exposure or an association as input.\n",
      "\n",
      "    Included steps are:\n",
      "    assign_wcs, background subtraction, NIRSpec MSA imprint subtraction,\n",
      "    NIRSpec MSA bad shutter flagging, 2-D subwindow extraction, flat field,\n",
      "    source type decision, straylight, fringe, pathloss, barshadow,  photom,\n",
      "    resample_spec, cube_build, and extract_1d.\n",
      "    \n"
     ]
    }
   ],
   "source": [
    "from jwst.pipeline import Spec2Pipeline\n",
    "print(Spec2Pipeline.__doc__)"
   ]
  },
  {
   "cell_type": "markdown",
   "metadata": {},
   "source": [
    "The bkg_subtract subtract step requires an association file defining the source and background exposures. At the moment, there is no easy way to create one, so we define it manually in a cell and write to the association json file. \n",
    "\n",
    "Note that the first nod in the MIRISim simulations is actually the background nod so we define this in the association file."
   ]
  },
  {
   "cell_type": "code",
   "execution_count": 9,
   "metadata": {
    "collapsed": true
   },
   "outputs": [],
   "source": [
    "import json\n",
    "\n",
    "data = {\n",
    "        \"degraded_status\": \"No known degraded exposures in association.\",\n",
    "        \"asn_rule\": \"DMS_Level3_Base\",\n",
    "        \"asn_pool\": \"none\",\n",
    "        \"asn_type\": \"None\",\n",
    "        \"constraints\": \"No constraints\",\n",
    "        \"program\": \"none\",\n",
    "        \"code_version\": \"0.7.1.beta5\",\n",
    "        \"asn_id\": \"a3001\",\n",
    "        \"products\": [\n",
    "        {\n",
    "            \"name\": \"lrs_bgsub_1\",\n",
    "            \"members\": [\n",
    "                {\n",
    "                    \"expname\": \"LRS-SLIT_demo_data_pipeline/det_image_2_MIRIMAGE_P750Lexp1_rate.fits\",\n",
    "                    \"exptype\": \"science\"\n",
    "                },\n",
    "                {\n",
    "                    \"expname\": \"LRS-SLIT_demo_data_pipeline/det_image_1_MIRIMAGE_P750Lexp1_rate.fits\",\n",
    "                    \"exptype\": \"background\"\n",
    "                }\n",
    "            ]\n",
    "        }\n",
    "    ],\n",
    "    \"target\": \"none\"\n",
    "}\n",
    "\n",
    "with open('LRS_lvl2_asn.json', 'w') as outfile:  \n",
    "    json.dump(data, outfile)"
   ]
  },
  {
   "cell_type": "markdown",
   "metadata": {},
   "source": [
    "#### run pipeline\n",
    "We pass the level 2 assocation file. The output is contained in the dm_2B data model and saved to a fits file ending in '_cal.fits'.\n",
    "\n",
    "The call to the pipeline will also extract a spectrum from this _cal.fits file (ending in _x1d.fits). "
   ]
  },
  {
   "cell_type": "code",
   "execution_count": 10,
   "metadata": {
    "scrolled": true
   },
   "outputs": [
    {
     "name": "stderr",
     "output_type": "stream",
     "text": [
      "2017-12-13 12:51:23,086 - stpipe.Spec2Pipeline - INFO - Spec2Pipeline instance created.\n",
      "2017-12-13 12:51:23,087 - stpipe.Spec2Pipeline.bkg_subtract - INFO - BackgroundStep instance created.\n",
      "2017-12-13 12:51:23,089 - stpipe.Spec2Pipeline.assign_wcs - INFO - AssignWcsStep instance created.\n",
      "2017-12-13 12:51:23,090 - stpipe.Spec2Pipeline.imprint_subtract - INFO - ImprintStep instance created.\n",
      "2017-12-13 12:51:23,092 - stpipe.Spec2Pipeline.msa_flagging - INFO - MSAFlagOpenStep instance created.\n",
      "2017-12-13 12:51:23,094 - stpipe.Spec2Pipeline.extract_2d - INFO - Extract2dStep instance created.\n",
      "2017-12-13 12:51:23,096 - stpipe.Spec2Pipeline.flat_field - INFO - FlatFieldStep instance created.\n",
      "2017-12-13 12:51:23,097 - stpipe.Spec2Pipeline.srctype - INFO - SourceTypeStep instance created.\n",
      "2017-12-13 12:51:23,098 - stpipe.Spec2Pipeline.straylight - INFO - StraylightStep instance created.\n",
      "2017-12-13 12:51:23,100 - stpipe.Spec2Pipeline.fringe - INFO - FringeStep instance created.\n",
      "2017-12-13 12:51:23,101 - stpipe.Spec2Pipeline.pathloss - INFO - PathLossStep instance created.\n",
      "2017-12-13 12:51:23,103 - stpipe.Spec2Pipeline.barshadow - INFO - BarShadowStep instance created.\n",
      "2017-12-13 12:51:23,105 - stpipe.Spec2Pipeline.photom - INFO - PhotomStep instance created.\n",
      "2017-12-13 12:51:23,107 - stpipe.Spec2Pipeline.resample_spec - INFO - ResampleSpecStep instance created.\n",
      "2017-12-13 12:51:23,109 - stpipe.Spec2Pipeline.cube_build - INFO - CubeBuildStep instance created.\n",
      "2017-12-13 12:51:23,111 - stpipe.Spec2Pipeline.extract_1d - INFO - Extract1dStep instance created.\n",
      "2017-12-13 12:51:23,384 - stpipe.Spec2Pipeline - INFO - Prefetch for AREA reference file is 'N/A'.\n",
      "2017-12-13 12:51:23,385 - stpipe.Spec2Pipeline - INFO - Prefetch for BARSHADOW reference file is 'N/A'.\n",
      "2017-12-13 12:51:23,386 - stpipe.Spec2Pipeline - INFO - Prefetch for CAMERA reference file is 'N/A'.\n",
      "2017-12-13 12:51:23,386 - stpipe.Spec2Pipeline - INFO - Prefetch for COLLIMATOR reference file is 'N/A'.\n",
      "2017-12-13 12:51:23,387 - stpipe.Spec2Pipeline - INFO - Prefetch for CUBEPAR reference file is 'N/A'.\n",
      "2017-12-13 12:51:23,388 - stpipe.Spec2Pipeline - INFO - Prefetch for DFLAT reference file is 'N/A'.\n",
      "2017-12-13 12:51:23,388 - stpipe.Spec2Pipeline - INFO - Prefetch for DISPERSER reference file is 'N/A'.\n",
      "2017-12-13 12:51:23,389 - stpipe.Spec2Pipeline - INFO - Prefetch for DISTORTION reference file is '/Users/patrickkavanagh/crds_mirror/references/jwst/miri/jwst_miri_distortion_0023.asdf'.\n",
      "2017-12-13 12:51:23,390 - stpipe.Spec2Pipeline - INFO - Prefetch for DRIZPARS reference file is '/Users/patrickkavanagh/crds_mirror/references/jwst/miri/jwst_miri_drizpars_0001.fits'.\n",
      "2017-12-13 12:51:23,391 - stpipe.Spec2Pipeline - INFO - Prefetch for EXTRACT1D reference file is '/Users/patrickkavanagh/crds_mirror/references/jwst/miri/jwst_miri_extract1d_0004.json'.\n",
      "2017-12-13 12:51:23,391 - stpipe.Spec2Pipeline - INFO - Prefetch for FFLAT reference file is 'N/A'.\n",
      "2017-12-13 12:51:23,392 - stpipe.Spec2Pipeline - INFO - Prefetch for FILTEROFFSET reference file is 'N/A'.\n",
      "2017-12-13 12:51:23,393 - stpipe.Spec2Pipeline - INFO - Prefetch for FLAT reference file is '/Users/patrickkavanagh/crds_mirror/references/jwst/miri/jwst_miri_flat_0244.fits'.\n",
      "2017-12-13 12:51:23,394 - stpipe.Spec2Pipeline - INFO - Prefetch for FORE reference file is 'N/A'.\n",
      "2017-12-13 12:51:23,395 - stpipe.Spec2Pipeline - INFO - Prefetch for FPA reference file is 'N/A'.\n",
      "2017-12-13 12:51:23,395 - stpipe.Spec2Pipeline - INFO - Prefetch for FRINGE reference file is 'N/A'.\n",
      "2017-12-13 12:51:23,396 - stpipe.Spec2Pipeline - INFO - Prefetch for IFUFORE reference file is 'N/A'.\n",
      "2017-12-13 12:51:23,397 - stpipe.Spec2Pipeline - INFO - Prefetch for IFUPOST reference file is 'N/A'.\n",
      "2017-12-13 12:51:23,398 - stpipe.Spec2Pipeline - INFO - Prefetch for IFUSLICER reference file is 'N/A'.\n",
      "2017-12-13 12:51:23,398 - stpipe.Spec2Pipeline - INFO - Prefetch for MSA reference file is 'N/A'.\n",
      "2017-12-13 12:51:23,399 - stpipe.Spec2Pipeline - INFO - Prefetch for MSAOPER reference file is 'N/A'.\n",
      "2017-12-13 12:51:23,400 - stpipe.Spec2Pipeline - INFO - Prefetch for OTE reference file is 'N/A'.\n",
      "2017-12-13 12:51:23,401 - stpipe.Spec2Pipeline - INFO - Prefetch for PATHLOSS reference file is 'N/A'.\n",
      "2017-12-13 12:51:23,401 - stpipe.Spec2Pipeline - INFO - Prefetch for PHOTOM reference file is '/Users/patrickkavanagh/crds_mirror/references/jwst/miri/jwst_miri_photom_0014.fits'.\n",
      "2017-12-13 12:51:23,402 - stpipe.Spec2Pipeline - INFO - Prefetch for REGIONS reference file is 'N/A'.\n",
      "2017-12-13 12:51:23,403 - stpipe.Spec2Pipeline - INFO - Prefetch for RESOL reference file is 'N/A'.\n",
      "2017-12-13 12:51:23,403 - stpipe.Spec2Pipeline - INFO - Prefetch for SFLAT reference file is 'N/A'.\n",
      "2017-12-13 12:51:23,404 - stpipe.Spec2Pipeline - INFO - Prefetch for SPECWCS reference file is '/Users/patrickkavanagh/crds_mirror/references/jwst/miri/jwst_miri_specwcs_0001.fits'.\n",
      "2017-12-13 12:51:23,405 - stpipe.Spec2Pipeline - INFO - Prefetch for STRAYMASK reference file is 'N/A'.\n",
      "2017-12-13 12:51:23,405 - stpipe.Spec2Pipeline - INFO - Prefetch for V2V3 reference file is 'N/A'.\n",
      "2017-12-13 12:51:23,406 - stpipe.Spec2Pipeline - INFO - Prefetch for WAVECORR reference file is 'N/A'.\n",
      "2017-12-13 12:51:23,407 - stpipe.Spec2Pipeline - INFO - Prefetch for WAVELENGTHRANGE reference file is 'N/A'.\n",
      "2017-12-13 12:51:23,522 - stpipe.Spec2Pipeline - INFO - Prefetch for AREA reference file is 'N/A'.\n",
      "2017-12-13 12:51:23,523 - stpipe.Spec2Pipeline - INFO - Prefetch for BARSHADOW reference file is 'N/A'.\n",
      "2017-12-13 12:51:23,524 - stpipe.Spec2Pipeline - INFO - Prefetch for CAMERA reference file is 'N/A'.\n",
      "2017-12-13 12:51:23,524 - stpipe.Spec2Pipeline - INFO - Prefetch for COLLIMATOR reference file is 'N/A'.\n",
      "2017-12-13 12:51:23,525 - stpipe.Spec2Pipeline - INFO - Prefetch for CUBEPAR reference file is 'N/A'.\n",
      "2017-12-13 12:51:23,526 - stpipe.Spec2Pipeline - INFO - Prefetch for DFLAT reference file is 'N/A'.\n",
      "2017-12-13 12:51:23,526 - stpipe.Spec2Pipeline - INFO - Prefetch for DISPERSER reference file is 'N/A'.\n",
      "2017-12-13 12:51:23,527 - stpipe.Spec2Pipeline - INFO - Prefetch for DISTORTION reference file is '/Users/patrickkavanagh/crds_mirror/references/jwst/miri/jwst_miri_distortion_0023.asdf'.\n",
      "2017-12-13 12:51:23,528 - stpipe.Spec2Pipeline - INFO - Prefetch for DRIZPARS reference file is '/Users/patrickkavanagh/crds_mirror/references/jwst/miri/jwst_miri_drizpars_0001.fits'.\n",
      "2017-12-13 12:51:23,529 - stpipe.Spec2Pipeline - INFO - Prefetch for EXTRACT1D reference file is '/Users/patrickkavanagh/crds_mirror/references/jwst/miri/jwst_miri_extract1d_0004.json'.\n",
      "2017-12-13 12:51:23,530 - stpipe.Spec2Pipeline - INFO - Prefetch for FFLAT reference file is 'N/A'.\n",
      "2017-12-13 12:51:23,530 - stpipe.Spec2Pipeline - INFO - Prefetch for FILTEROFFSET reference file is 'N/A'.\n",
      "2017-12-13 12:51:23,531 - stpipe.Spec2Pipeline - INFO - Prefetch for FLAT reference file is '/Users/patrickkavanagh/crds_mirror/references/jwst/miri/jwst_miri_flat_0244.fits'.\n",
      "2017-12-13 12:51:23,532 - stpipe.Spec2Pipeline - INFO - Prefetch for FORE reference file is 'N/A'.\n",
      "2017-12-13 12:51:23,532 - stpipe.Spec2Pipeline - INFO - Prefetch for FPA reference file is 'N/A'.\n",
      "2017-12-13 12:51:23,533 - stpipe.Spec2Pipeline - INFO - Prefetch for FRINGE reference file is 'N/A'.\n",
      "2017-12-13 12:51:23,534 - stpipe.Spec2Pipeline - INFO - Prefetch for IFUFORE reference file is 'N/A'.\n",
      "2017-12-13 12:51:23,535 - stpipe.Spec2Pipeline - INFO - Prefetch for IFUPOST reference file is 'N/A'.\n",
      "2017-12-13 12:51:23,535 - stpipe.Spec2Pipeline - INFO - Prefetch for IFUSLICER reference file is 'N/A'.\n",
      "2017-12-13 12:51:23,536 - stpipe.Spec2Pipeline - INFO - Prefetch for MSA reference file is 'N/A'.\n",
      "2017-12-13 12:51:23,537 - stpipe.Spec2Pipeline - INFO - Prefetch for MSAOPER reference file is 'N/A'.\n",
      "2017-12-13 12:51:23,537 - stpipe.Spec2Pipeline - INFO - Prefetch for OTE reference file is 'N/A'.\n",
      "2017-12-13 12:51:23,538 - stpipe.Spec2Pipeline - INFO - Prefetch for PATHLOSS reference file is 'N/A'.\n",
      "2017-12-13 12:51:23,539 - stpipe.Spec2Pipeline - INFO - Prefetch for PHOTOM reference file is '/Users/patrickkavanagh/crds_mirror/references/jwst/miri/jwst_miri_photom_0014.fits'.\n",
      "2017-12-13 12:51:23,540 - stpipe.Spec2Pipeline - INFO - Prefetch for REGIONS reference file is 'N/A'.\n"
     ]
    },
    {
     "name": "stderr",
     "output_type": "stream",
     "text": [
      "2017-12-13 12:51:23,540 - stpipe.Spec2Pipeline - INFO - Prefetch for RESOL reference file is 'N/A'.\n",
      "2017-12-13 12:51:23,541 - stpipe.Spec2Pipeline - INFO - Prefetch for SFLAT reference file is 'N/A'.\n",
      "2017-12-13 12:51:23,541 - stpipe.Spec2Pipeline - INFO - Prefetch for SPECWCS reference file is '/Users/patrickkavanagh/crds_mirror/references/jwst/miri/jwst_miri_specwcs_0001.fits'.\n",
      "2017-12-13 12:51:23,542 - stpipe.Spec2Pipeline - INFO - Prefetch for STRAYMASK reference file is 'N/A'.\n",
      "2017-12-13 12:51:23,543 - stpipe.Spec2Pipeline - INFO - Prefetch for V2V3 reference file is 'N/A'.\n",
      "2017-12-13 12:51:23,543 - stpipe.Spec2Pipeline - INFO - Prefetch for WAVECORR reference file is 'N/A'.\n",
      "2017-12-13 12:51:23,544 - stpipe.Spec2Pipeline - INFO - Prefetch for WAVELENGTHRANGE reference file is 'N/A'.\n",
      "2017-12-13 12:51:23,597 - stpipe.Spec2Pipeline - INFO - Step Spec2Pipeline running with args ('LRS_lvl2_asn.json',).\n",
      "2017-12-13 12:51:23,598 - stpipe.Spec2Pipeline - INFO - Starting calwebb_spec2 ...\n",
      "2017-12-13 12:51:23,602 - stpipe.Spec2Pipeline - INFO - Processing product lrs_bgsub_1\n",
      "2017-12-13 12:51:23,603 - stpipe.Spec2Pipeline - INFO - Working on input LRS-SLIT_demo_data_pipeline/det_image_2_MIRIMAGE_P750Lexp1_rate.fits ...\n",
      "2017-12-13 12:51:23,824 - stpipe.Spec2Pipeline.assign_wcs - INFO - Prefetch for CAMERA reference file is 'N/A'.\n",
      "2017-12-13 12:51:23,824 - stpipe.Spec2Pipeline.assign_wcs - INFO - Prefetch for COLLIMATOR reference file is 'N/A'.\n",
      "2017-12-13 12:51:23,825 - stpipe.Spec2Pipeline.assign_wcs - INFO - Prefetch for DISPERSER reference file is 'N/A'.\n",
      "2017-12-13 12:51:23,826 - stpipe.Spec2Pipeline.assign_wcs - INFO - Prefetch for DISTORTION reference file is '/Users/patrickkavanagh/crds_mirror/references/jwst/miri/jwst_miri_distortion_0023.asdf'.\n",
      "2017-12-13 12:51:23,827 - stpipe.Spec2Pipeline.assign_wcs - INFO - Prefetch for FILTEROFFSET reference file is 'N/A'.\n",
      "2017-12-13 12:51:23,827 - stpipe.Spec2Pipeline.assign_wcs - INFO - Prefetch for FORE reference file is 'N/A'.\n",
      "2017-12-13 12:51:23,828 - stpipe.Spec2Pipeline.assign_wcs - INFO - Prefetch for FPA reference file is 'N/A'.\n",
      "2017-12-13 12:51:23,829 - stpipe.Spec2Pipeline.assign_wcs - INFO - Prefetch for IFUFORE reference file is 'N/A'.\n",
      "2017-12-13 12:51:23,829 - stpipe.Spec2Pipeline.assign_wcs - INFO - Prefetch for IFUPOST reference file is 'N/A'.\n",
      "2017-12-13 12:51:23,830 - stpipe.Spec2Pipeline.assign_wcs - INFO - Prefetch for IFUSLICER reference file is 'N/A'.\n",
      "2017-12-13 12:51:23,831 - stpipe.Spec2Pipeline.assign_wcs - INFO - Prefetch for MSA reference file is 'N/A'.\n",
      "2017-12-13 12:51:23,832 - stpipe.Spec2Pipeline.assign_wcs - INFO - Prefetch for OTE reference file is 'N/A'.\n",
      "2017-12-13 12:51:23,833 - stpipe.Spec2Pipeline.assign_wcs - INFO - Prefetch for REGIONS reference file is 'N/A'.\n",
      "2017-12-13 12:51:23,833 - stpipe.Spec2Pipeline.assign_wcs - INFO - Prefetch for SPECWCS reference file is '/Users/patrickkavanagh/crds_mirror/references/jwst/miri/jwst_miri_specwcs_0001.fits'.\n",
      "2017-12-13 12:51:23,834 - stpipe.Spec2Pipeline.assign_wcs - INFO - Prefetch for V2V3 reference file is 'N/A'.\n",
      "2017-12-13 12:51:23,835 - stpipe.Spec2Pipeline.assign_wcs - INFO - Prefetch for WAVELENGTHRANGE reference file is 'N/A'.\n",
      "2017-12-13 12:51:23,896 - stpipe.Spec2Pipeline.assign_wcs - INFO - Step assign_wcs running with args (<jwst.datamodels.image.ImageModel object at 0x1189fbc18>,).\n",
      "2017-12-13 12:51:25,552 - stpipe.Spec2Pipeline.assign_wcs - INFO - There NaNs in s_region\n",
      "2017-12-13 12:51:25,553 - stpipe.Spec2Pipeline.assign_wcs - INFO - COMPLETED assign_wcs\n",
      "2017-12-13 12:51:25,576 - stpipe.Spec2Pipeline.assign_wcs - INFO - Step assign_wcs done\n",
      "2017-12-13 12:51:25,643 - stpipe.Spec2Pipeline.bkg_subtract - INFO - Step bkg_subtract running with args (<jwst.datamodels.image.ImageModel object at 0x10a240278>, ['LRS-SLIT_demo_data_pipeline/det_image_1_MIRIMAGE_P750Lexp1_rate.fits']).\n",
      "2017-12-13 12:51:25,978 - stpipe.Spec2Pipeline.bkg_subtract - INFO - Step bkg_subtract done\n",
      "2017-12-13 12:51:26,151 - stpipe.Spec2Pipeline.flat_field - INFO - Prefetch for DFLAT reference file is 'N/A'.\n",
      "2017-12-13 12:51:26,152 - stpipe.Spec2Pipeline.flat_field - INFO - Prefetch for FFLAT reference file is 'N/A'.\n",
      "2017-12-13 12:51:26,153 - stpipe.Spec2Pipeline.flat_field - INFO - Prefetch for FLAT reference file is '/Users/patrickkavanagh/crds_mirror/references/jwst/miri/jwst_miri_flat_0244.fits'.\n",
      "2017-12-13 12:51:26,153 - stpipe.Spec2Pipeline.flat_field - INFO - Prefetch for SFLAT reference file is 'N/A'.\n",
      "2017-12-13 12:51:26,217 - stpipe.Spec2Pipeline.flat_field - INFO - Step flat_field running with args (<jwst.datamodels.image.ImageModel object at 0x1178af0f0>,).\n",
      "2017-12-13 12:51:26,429 - stpipe.Spec2Pipeline.flat_field - WARNING - Keyword CDP_PARTIAL_DATA does not correspond to an existing DQ mnemonic, so will be ignored\n",
      "2017-12-13 12:51:26,430 - stpipe.Spec2Pipeline.flat_field - WARNING - Keyword CDP_LOW_QUAL does not correspond to an existing DQ mnemonic, so will be ignored\n",
      "2017-12-13 12:51:26,430 - stpipe.Spec2Pipeline.flat_field - WARNING - Keyword CDP_UNRELIABLE_ERROR does not correspond to an existing DQ mnemonic, so will be ignored\n",
      "2017-12-13 12:51:26,436 - stpipe.Spec2Pipeline.flat_field - WARNING - Keyword DIFF_PATTERN does not correspond to an existing DQ mnemonic, so will be ignored\n",
      "2017-12-13 12:51:26,592 - stpipe.Spec2Pipeline.flat_field - INFO - Step flat_field done\n",
      "2017-12-13 12:51:26,663 - stpipe.Spec2Pipeline.srctype - INFO - Step srctype running with args (<jwst.datamodels.image.ImageModel object at 0x111499748>,).\n",
      "2017-12-13 12:51:26,697 - stpipe.Spec2Pipeline.srctype - INFO - Input EXP_TYPE is MIR_LRS-FIXEDSLIT\n",
      "2017-12-13 12:51:26,698 - stpipe.Spec2Pipeline.srctype - INFO - Input SRCTYPE is unknown. Setting to default value of POINT\n",
      "2017-12-13 12:51:26,716 - stpipe.Spec2Pipeline.srctype - INFO - Step srctype done\n",
      "2017-12-13 12:51:26,851 - stpipe.Spec2Pipeline.photom - INFO - Prefetch for AREA reference file is 'N/A'.\n",
      "2017-12-13 12:51:26,852 - stpipe.Spec2Pipeline.photom - INFO - Prefetch for PHOTOM reference file is '/Users/patrickkavanagh/crds_mirror/references/jwst/miri/jwst_miri_photom_0014.fits'.\n",
      "2017-12-13 12:51:26,911 - stpipe.Spec2Pipeline.photom - INFO - Step photom running with args (<jwst.datamodels.image.ImageModel object at 0x1118cbb70>,).\n",
      "2017-12-13 12:51:27,008 - stpipe.Spec2Pipeline.photom - INFO - Using photom reference file: /Users/patrickkavanagh/crds_mirror/references/jwst/miri/jwst_miri_photom_0014.fits\n",
      "2017-12-13 12:51:27,077 - stpipe.Spec2Pipeline.photom - INFO - Using area reference file: N/A\n",
      "2017-12-13 12:51:27,078 - stpipe.Spec2Pipeline.photom - INFO - Using instrument: MIRI\n",
      "2017-12-13 12:51:27,079 - stpipe.Spec2Pipeline.photom - INFO -  detector: MIRIMAGE\n",
      "2017-12-13 12:51:27,079 - stpipe.Spec2Pipeline.photom - INFO -  exp_type: MIR_LRS-FIXEDSLIT\n",
      "2017-12-13 12:51:27,080 - stpipe.Spec2Pipeline.photom - INFO -  filter: P750L\n",
      "2017-12-13 12:51:27,140 - stpipe.Spec2Pipeline.photom - INFO -  subarray: FULL\n",
      "2017-12-13 12:51:27,153 - stpipe.Spec2Pipeline.photom - INFO - Relative response table written.\n",
      "2017-12-13 12:51:27,154 - stpipe.Spec2Pipeline.photom - INFO - Writing PHOTMJSR with value: 1\n",
      "2017-12-13 12:51:27,173 - stpipe.Spec2Pipeline.photom - INFO - Step photom done\n",
      "2017-12-13 12:51:27,321 - stpipe.Spec2Pipeline.extract_1d - INFO - Prefetch for EXTRACT1D reference file is '/Users/patrickkavanagh/crds_mirror/references/jwst/miri/jwst_miri_extract1d_0004.json'.\n",
      "2017-12-13 12:51:27,376 - stpipe.Spec2Pipeline.extract_1d - INFO - Step extract_1d running with args (<jwst.datamodels.image.ImageModel object at 0x1178bafd0>,).\n",
      "2017-12-13 12:51:27,455 - stpipe.Spec2Pipeline.extract_1d - INFO - Using EXTRACT1D reference file /Users/patrickkavanagh/crds_mirror/references/jwst/miri/jwst_miri_extract1d_0004.json\n",
      "2017-12-13 12:51:27,479 - stpipe.Spec2Pipeline.extract_1d - WARNING - spectral_order is None; using 1\n",
      "2017-12-13 12:51:27,495 - stpipe.Spec2Pipeline.extract_1d - WARNING - 1 NaNs in wavelength array; set to 0.01\n",
      "2017-12-13 12:51:27,526 - stpipe.Spec2Pipeline.extract_1d - WARNING - Using RELSENS, 388 elements were extrapolated; these values will be set to 1.\n",
      "2017-12-13 12:51:27,589 - stpipe.Spec2Pipeline.extract_1d - INFO - Saving file LRS-SLIT_demo_data_pipeline/lrs_bgsub_1_x1d.fits\n"
     ]
    },
    {
     "name": "stderr",
     "output_type": "stream",
     "text": [
      "2017-12-13 12:51:27,654 - stpipe.Spec2Pipeline.extract_1d - INFO - Step extract_1d done\n",
      "2017-12-13 12:51:27,655 - stpipe.Spec2Pipeline - INFO - Finished processing product lrs_bgsub_1\n",
      "2017-12-13 12:51:27,656 - stpipe.Spec2Pipeline - INFO - Step.save_model LRS-SLIT_demo_data_pipeline/lrs_bgsub_1_cal.fits\n",
      "2017-12-13 12:51:27,891 - stpipe.Spec2Pipeline - INFO - Ending calwebb_spec2\n",
      "2017-12-13 12:51:27,892 - stpipe.Spec2Pipeline - INFO - Step Spec2Pipeline done\n"
     ]
    }
   ],
   "source": [
    "Spec2Pipeline.call('LRS_lvl2_asn.json', save_results=True, output_dir=output_dir, steps={'extract_1d':{'save_results':True}})\n"
   ]
  },
  {
   "cell_type": "markdown",
   "metadata": {},
   "source": [
    "### check of output\n",
    "\n",
    "We can have a look at the steps applied to the level 2B file in the pipeline"
   ]
  },
  {
   "cell_type": "code",
   "execution_count": 11,
   "metadata": {},
   "outputs": [
    {
     "name": "stdout",
     "output_type": "stream",
     "text": [
      "Check step information status:\n",
      "assign_wcs: COMPLETE\n",
      "bkg_subtract: COMPLETE\n",
      "flat_field: COMPLETE\n",
      "srctype: COMPLETE\n",
      "photom: COMPLETE\n"
     ]
    }
   ],
   "source": [
    "# set the output file names\n",
    "level2B_files = glob.glob(os.path.join(output_dir,'*_cal.fits'))\n",
    "\n",
    "with datamodels.open(level2B_files[0]) as dm:\n",
    "    # check the calibration step information\n",
    "    print('Check step information status:')\n",
    "    print('assign_wcs: %s' % dm.meta.cal_step.assign_wcs)\n",
    "    print('bkg_subtract: %s' % dm.meta.cal_step.back_sub)\n",
    "    print('flat_field: %s' % dm.meta.cal_step.flat_field)\n",
    "    print('srctype: %s' % dm.meta.cal_step.srctype)\n",
    "    print('photom: %s' % dm.meta.cal_step.photom)\n"
   ]
  },
  {
   "cell_type": "markdown",
   "metadata": {},
   "source": [
    "While the photom step attaches the SRF to the _cal.fits file, it does not actually apply it so we must manually convert the extracted spectrum from DN/s to Jy using the SRF. We can look at the SRF while is located in the 'relsens' object in the metadata."
   ]
  },
  {
   "cell_type": "code",
   "execution_count": 12,
   "metadata": {},
   "outputs": [
    {
     "data": {
      "image/png": "[encoded data removed]",
      "text/plain": [
       "<matplotlib.figure.Figure at 0x217ef9978>"
      ]
     },
     "metadata": {},
     "output_type": "display_data"
    }
   ],
   "source": [
    "with datamodels.open(level2B_files[0]) as dm:  \n",
    "    #print(dm.relsens)\n",
    "    relsens = np.array(dm.relsens, dtype=[('wavelength', 'f4'), ('response', 'i8')])\n",
    "    # plot--------------------------------------\n",
    "    fig, axs = plt.subplots(1, 1, figsize=(8, 6))\n",
    "\n",
    "    # plot input and output ramps of the first integration\n",
    "    axs.plot(relsens['wavelength'], relsens['response'], c='b', marker='o', markersize=2, \n",
    "             markeredgewidth=3, linestyle='-', linewidth=1, label='relsens')\n",
    "    axs.set_title('RELSENS', fontsize=15)\n",
    "    axs.set_xlabel('wavelength (micron)', fontsize=15)\n",
    "    axs.set_ylabel('SRF (DN/s/Jy)', fontsize=15)\n",
    "\n",
    "    plt.tight_layout(h_pad=0)\n",
    "    plt.show()"
   ]
  },
  {
   "cell_type": "markdown",
   "metadata": {},
   "source": [
    "#### plot the spectrum\n",
    "Using the SRF, we can flux calibrate and plot the extracted spectrum"
   ]
  },
  {
   "cell_type": "code",
   "execution_count": 13,
   "metadata": {},
   "outputs": [
    {
     "data": {
      "image/png": "[encoded data removed]",
      "text/plain": [
       "<matplotlib.figure.Figure at 0x118966f98>"
      ]
     },
     "metadata": {},
     "output_type": "display_data"
    }
   ],
   "source": [
    "spec_file = glob.glob(os.path.join(output_dir,\"*x1d.fits\"))[0]\n",
    "dm = datamodels.open(spec_file)\n",
    "\n",
    "fig, axs = plt.subplots(1, 1, figsize=(10, 7))\n",
    "\n",
    "# convert the flux to Jy\n",
    "response_at_data = np.interp(dm.spec[0].spec_table['WAVELENGTH'][1:-1], relsens['wavelength'], relsens['response'])\n",
    "flux_Jy = dm.spec[0].spec_table['FLUX'][1:-1] / response_at_data\n",
    "\n",
    "# plot the spectrum \n",
    "axs.plot(dm.spec[0].spec_table['WAVELENGTH'][1:-1], flux_Jy, c='b', marker='.', \n",
    "         markersize=0, linestyle='-', linewidth=2)\n",
    "axs.set_ylabel(r'Flux (Jy)')\n",
    "axs.set_xlabel(r'Wavelength ($\\mu$m)')\n",
    "axs.set_xlim(5.0,14.0)\n",
    "axs.set_ylim(0,0.02)\n",
    "plt.grid()\n",
    "plt.show()"
   ]
  },
  {
   "cell_type": "code",
   "execution_count": null,
   "metadata": {
    "collapsed": true
   },
   "outputs": [],
   "source": []
  }
 ],
 "metadata": {
  "anaconda-cloud": {},
  "kernelspec": {
   "display_name": "Python 3",
   "language": "python",
   "name": "python3"
  },
  "language_info": {
   "codemirror_mode": {
    "name": "ipython",
    "version": 3
   },
   "file_extension": ".py",
   "mimetype": "text/x-python",
   "name": "python",
   "nbconvert_exporter": "python",
   "pygments_lexer": "ipython3",
   "version": "3.5.4"
  }
 },
 "nbformat": 4,
 "nbformat_minor": 1
}
